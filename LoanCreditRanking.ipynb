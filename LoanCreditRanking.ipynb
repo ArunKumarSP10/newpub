{
  "cells": [
    {
      "cell_type": "markdown",
      "metadata": {
        "id": "view-in-github",
        "colab_type": "text"
      },
      "source": [
        "<a href=\"https://colab.research.google.com/github/ArunKumarSP10/newpub/blob/main/LoanCreditRanking.ipynb\" target=\"_parent\"><img src=\"https://colab.research.google.com/assets/colab-badge.svg\" alt=\"Open In Colab\"/></a>"
      ]
    },
    {
      "cell_type": "markdown",
      "metadata": {
        "id": "7dvu5gf_CFS4"
      },
      "source": [
        "Loading neccessary extension for Data Processing.\n"
      ]
    },
    {
      "cell_type": "code",
      "execution_count": null,
      "metadata": {
        "id": "QIynPQceMqK7"
      },
      "outputs": [],
      "source": [
        "import pandas as pd\n",
        "import io\n",
        "import numpy as np\n",
        "from matplotlib import pyplot as plt\n",
        "from sklearn.impute import SimpleImputer\n",
        "from sklearn.preprocessing import MinMaxScaler\n",
        "from sklearn.preprocessing import LabelEncoder\n",
        "from sklearn.model_selection import train_test_split"
      ]
    },
    {
      "cell_type": "markdown",
      "metadata": {
        "id": "i7rW-E3p_rZc"
      },
      "source": []
    },
    {
      "cell_type": "code",
      "execution_count": null,
      "metadata": {
        "id": "MKARPGFBPWjf"
      },
      "outputs": [],
      "source": [
        "import time\n",
        "import warnings\n",
        "warnings.filterwarnings(\"ignore\")"
      ]
    },
    {
      "cell_type": "code",
      "execution_count": null,
      "metadata": {
        "id": "SeWDI1zzPab8"
      },
      "outputs": [],
      "source": [
        "# GPU Execution Prerequsite\n",
        "import sys\n",
        "import os\n",
        "#import site\n",
        "#sys.path.append(os.path.join(os.path.dirname(site.getsitepackages()[0]), \"site-packages\"))"
      ]
    },
    {
      "cell_type": "code",
      "execution_count": null,
      "metadata": {
        "id": "g1AgATno3E7e"
      },
      "outputs": [],
      "source": [
        "file_path = '/content/drive/My Drive/Colab Notebooks/train.csv'"
      ]
    },
    {
      "cell_type": "code",
      "execution_count": null,
      "metadata": {
        "id": "f2HwIyj3Pcs1"
      },
      "outputs": [],
      "source": [
        "from sklearn.metrics import roc_curve, auc\n",
        "import matplotlib.pyplot as plt\n",
        "from google.colab import drive"
      ]
    },
    {
      "cell_type": "code",
      "execution_count": null,
      "metadata": {
        "id": "96QrGKJzP3yv"
      },
      "outputs": [],
      "source": [
        "# Plot and Other Display Settings.\n",
        "pd.options.display.max_rows = 10\n",
        "pd.options.display.float_format = \"{:.1f}\".format"
      ]
    },
    {
      "cell_type": "markdown",
      "metadata": {
        "id": "At4IKIM_HAQa"
      },
      "source": []
    },
    {
      "cell_type": "code",
      "execution_count": null,
      "metadata": {
        "colab": {
          "base_uri": "https://localhost:8080/"
        },
        "id": "7qvd4vneRRrK",
        "outputId": "5f61eb02-0bc1-4628-8034-69eb113fbc45"
      },
      "outputs": [
        {
          "output_type": "stream",
          "name": "stdout",
          "text": [
            "Mounted at /content/drive\n"
          ]
        }
      ],
      "source": [
        "from google.colab import drive\n",
        "drive.mount('/content/drive', force_remount=True)\n"
      ]
    },
    {
      "cell_type": "code",
      "execution_count": null,
      "metadata": {
        "id": "pAb_ZkSAQnd3"
      },
      "outputs": [],
      "source": [
        "training_df = pd.read_csv(file_path)"
      ]
    },
    {
      "cell_type": "code",
      "execution_count": null,
      "metadata": {
        "colab": {
          "base_uri": "https://localhost:8080/"
        },
        "id": "YvlbzaugQwtW",
        "outputId": "335b60b9-ff5a-4a4d-b26a-bab006810ffe"
      },
      "outputs": [
        {
          "output_type": "execute_result",
          "data": {
            "text/plain": [
              "Index(['customer_id', 'firstname', 'lastname', 'record_number',\n",
              "       'days_since_opened', 'days_since_confirmed', 'primary_term',\n",
              "       'final_term', 'days_till_primary_close', 'days_till_final_close',\n",
              "       'loans_credit_limit', 'loans_next_payment_summary',\n",
              "       'loans_outstanding_balance', 'loans_max_overdue_amount',\n",
              "       'loans_credit_cost_rate', 'loans_within_5_days',\n",
              "       'loans_within_5_to_30_days', 'loans_within_30_to_60_days',\n",
              "       'loans_within_60_to_90_days', 'loans_over_90_days',\n",
              "       'is_zero_loans_within_5_days', 'is_zero_loans_within_5_to_30_days',\n",
              "       'is_zero_loans_within_30_to_60_days',\n",
              "       'is_zero_loans_within_60_to_90_days', 'is_zero_loans_over_90_days',\n",
              "       'utilization', 'over_limit_count', 'max_over_limit_count',\n",
              "       'is_zero_utilization', 'is_zero_over_limit_count',\n",
              "       'is_zero_max_over_limit_count', 'encoded_payment_0',\n",
              "       'encoded_payment_1', 'encoded_payment_2', 'encoded_payment_3',\n",
              "       'encoded_payment_4', 'encoded_payment_5', 'encoded_payment_6',\n",
              "       'encoded_payment_7', 'encoded_payment_8', 'encoded_payment_9',\n",
              "       'encoded_payment_10', 'encoded_payment_11', 'encoded_payment_12',\n",
              "       'encoded_payment_13', 'encoded_payment_14', 'encoded_payment_15',\n",
              "       'encoded_payment_16', 'encoded_payment_17', 'encoded_payment_18',\n",
              "       'encoded_payment_19', 'encoded_payment_20', 'encoded_payment_21',\n",
              "       'encoded_payment_22', 'encoded_payment_23', 'encoded_payment_24',\n",
              "       'encoded_loans_account_holder_type', 'encoded_loans_credit_status',\n",
              "       'encoded_loans_credit_type', 'encoded_loans_account_currency',\n",
              "       'primary_close_flag', 'final_close_flag'],\n",
              "      dtype='object')"
            ]
          },
          "metadata": {},
          "execution_count": 9
        }
      ],
      "source": [
        "training_df.columns"
      ]
    },
    {
      "cell_type": "code",
      "execution_count": null,
      "metadata": {
        "colab": {
          "base_uri": "https://localhost:8080/"
        },
        "id": "5e2Vw_6HGe7M",
        "outputId": "3f872622-abde-4f31-a394-90942f154a15"
      },
      "outputs": [
        {
          "name": "stdout",
          "output_type": "stream",
          "text": [
            "<class 'pandas.core.frame.DataFrame'>\n",
            "RangeIndex: 1106674 entries, 0 to 1106673\n",
            "Data columns (total 62 columns):\n",
            " #   Column                              Non-Null Count    Dtype  \n",
            "---  ------                              --------------    -----  \n",
            " 0   customer_id                         1106674 non-null  object \n",
            " 1   firstname                           1106674 non-null  object \n",
            " 2   lastname                            1106674 non-null  object \n",
            " 3   record_number                       1106674 non-null  int64  \n",
            " 4   days_since_opened                   1106674 non-null  int64  \n",
            " 5   days_since_confirmed                1106674 non-null  int64  \n",
            " 6   primary_term                        1106674 non-null  int64  \n",
            " 7   final_term                          1106674 non-null  int64  \n",
            " 8   days_till_primary_close             1106674 non-null  int64  \n",
            " 9   days_till_final_close               1106674 non-null  int64  \n",
            " 10  loans_credit_limit                  1106674 non-null  int64  \n",
            " 11  loans_next_payment_summary          1106674 non-null  int64  \n",
            " 12  loans_outstanding_balance           1106674 non-null  int64  \n",
            " 13  loans_max_overdue_amount            1106674 non-null  int64  \n",
            " 14  loans_credit_cost_rate              1106674 non-null  int64  \n",
            " 15  loans_within_5_days                 1106674 non-null  int64  \n",
            " 16  loans_within_5_to_30_days           1106674 non-null  int64  \n",
            " 17  loans_within_30_to_60_days          1106674 non-null  int64  \n",
            " 18  loans_within_60_to_90_days          1106674 non-null  int64  \n",
            " 19  loans_over_90_days                  1106674 non-null  int64  \n",
            " 20  is_zero_loans_within_5_days         1106674 non-null  object \n",
            " 21  is_zero_loans_within_5_to_30_days   1106674 non-null  object \n",
            " 22  is_zero_loans_within_30_to_60_days  1106674 non-null  object \n",
            " 23  is_zero_loans_within_60_to_90_days  1106674 non-null  object \n",
            " 24  is_zero_loans_over_90_days          1106674 non-null  object \n",
            " 25  utilization                         1106674 non-null  int64  \n",
            " 26  over_limit_count                    1106674 non-null  int64  \n",
            " 27  max_over_limit_count                1106674 non-null  int64  \n",
            " 28  is_zero_utilization                 1106674 non-null  object \n",
            " 29  is_zero_over_limit_count            1106674 non-null  object \n",
            " 30  is_zero_max_over_limit_count        1106674 non-null  object \n",
            " 31  encoded_payment_0                   1069055 non-null  float64\n",
            " 32  encoded_payment_1                   1070930 non-null  float64\n",
            " 33  encoded_payment_2                   1072062 non-null  float64\n",
            " 34  encoded_payment_3                   1069258 non-null  float64\n",
            " 35  encoded_payment_4                   1070834 non-null  float64\n",
            " 36  encoded_payment_5                   1071370 non-null  float64\n",
            " 37  encoded_payment_6                   1068655 non-null  float64\n",
            " 38  encoded_payment_7                   1071045 non-null  float64\n",
            " 39  encoded_payment_8                   1071912 non-null  float64\n",
            " 40  encoded_payment_9                   1070823 non-null  float64\n",
            " 41  encoded_payment_10                  1071039 non-null  float64\n",
            " 42  encoded_payment_11                  1071475 non-null  float64\n",
            " 43  encoded_payment_12                  1068866 non-null  float64\n",
            " 44  encoded_payment_13                  1071323 non-null  float64\n",
            " 45  encoded_payment_14                  1069215 non-null  float64\n",
            " 46  encoded_payment_15                  1070000 non-null  float64\n",
            " 47  encoded_payment_16                  1071962 non-null  float64\n",
            " 48  encoded_payment_17                  1069359 non-null  float64\n",
            " 49  encoded_payment_18                  1071406 non-null  float64\n",
            " 50  encoded_payment_19                  1070293 non-null  float64\n",
            " 51  encoded_payment_20                  1069155 non-null  float64\n",
            " 52  encoded_payment_21                  1069126 non-null  float64\n",
            " 53  encoded_payment_22                  1069519 non-null  float64\n",
            " 54  encoded_payment_23                  1070131 non-null  float64\n",
            " 55  encoded_payment_24                  1070629 non-null  float64\n",
            " 56  encoded_loans_account_holder_type   1106674 non-null  int64  \n",
            " 57  encoded_loans_credit_status         1106674 non-null  int64  \n",
            " 58  encoded_loans_credit_type           1106674 non-null  int64  \n",
            " 59  encoded_loans_account_currency      1106674 non-null  int64  \n",
            " 60  primary_close_flag                  1106674 non-null  int64  \n",
            " 61  final_close_flag                    1106674 non-null  int64  \n",
            "dtypes: float64(25), int64(26), object(11)\n",
            "memory usage: 523.5+ MB\n"
          ]
        }
      ],
      "source": [
        "training_df.info()"
      ]
    },
    {
      "cell_type": "code",
      "execution_count": null,
      "metadata": {
        "id": "kNz5qLLJ4Rz7"
      },
      "outputs": [],
      "source": [
        "file_path1='/content/drive/My Drive/Colab Notebooks/test.csv'"
      ]
    },
    {
      "cell_type": "code",
      "execution_count": null,
      "metadata": {
        "id": "CMOp1Ah7H05b"
      },
      "outputs": [],
      "source": [
        "testing_df=pd.read_csv(file_path1)"
      ]
    },
    {
      "cell_type": "code",
      "execution_count": null,
      "metadata": {
        "colab": {
          "base_uri": "https://localhost:8080/"
        },
        "id": "v-v8g0GkH7XT",
        "outputId": "d79c3214-9f02-441d-b27f-297c619c7016"
      },
      "outputs": [
        {
          "name": "stdout",
          "output_type": "stream",
          "text": [
            "<class 'pandas.core.frame.DataFrame'>\n",
            "RangeIndex: 474289 entries, 0 to 474288\n",
            "Data columns (total 60 columns):\n",
            " #   Column                              Non-Null Count   Dtype  \n",
            "---  ------                              --------------   -----  \n",
            " 0   customer_id                         474289 non-null  object \n",
            " 1   firstname                           474289 non-null  object \n",
            " 2   lastname                            474289 non-null  object \n",
            " 3   record_number                       474289 non-null  int64  \n",
            " 4   days_since_opened                   474289 non-null  int64  \n",
            " 5   days_since_confirmed                474289 non-null  int64  \n",
            " 6   primary_term                        474289 non-null  int64  \n",
            " 7   final_term                          474289 non-null  int64  \n",
            " 8   days_till_primary_close             474289 non-null  int64  \n",
            " 9   days_till_final_close               474289 non-null  int64  \n",
            " 10  loans_credit_limit                  474289 non-null  int64  \n",
            " 11  loans_next_payment_summary          474289 non-null  int64  \n",
            " 12  loans_outstanding_balance           474289 non-null  int64  \n",
            " 13  loans_max_overdue_amount            474289 non-null  int64  \n",
            " 14  loans_credit_cost_rate              474289 non-null  int64  \n",
            " 15  loans_within_5_days                 474289 non-null  int64  \n",
            " 16  loans_within_5_to_30_days           474289 non-null  int64  \n",
            " 17  loans_within_30_to_60_days          474289 non-null  int64  \n",
            " 18  loans_within_60_to_90_days          474289 non-null  int64  \n",
            " 19  loans_over_90_days                  474289 non-null  int64  \n",
            " 20  is_zero_loans_within_5_days         474289 non-null  object \n",
            " 21  is_zero_loans_within_5_to_30_days   474289 non-null  object \n",
            " 22  is_zero_loans_within_30_to_60_days  474289 non-null  object \n",
            " 23  is_zero_loans_within_60_to_90_days  474289 non-null  object \n",
            " 24  is_zero_loans_over_90_days          474289 non-null  object \n",
            " 25  utilization                         474289 non-null  int64  \n",
            " 26  over_limit_count                    474289 non-null  int64  \n",
            " 27  max_over_limit_count                474289 non-null  int64  \n",
            " 28  is_zero_utilization                 474289 non-null  object \n",
            " 29  is_zero_over_limit_count            474289 non-null  object \n",
            " 30  is_zero_max_over_limit_count        474289 non-null  object \n",
            " 31  encoded_payment_0                   458297 non-null  float64\n",
            " 32  encoded_payment_1                   458668 non-null  float64\n",
            " 33  encoded_payment_2                   459311 non-null  float64\n",
            " 34  encoded_payment_3                   458068 non-null  float64\n",
            " 35  encoded_payment_4                   458761 non-null  float64\n",
            " 36  encoded_payment_5                   459257 non-null  float64\n",
            " 37  encoded_payment_6                   458067 non-null  float64\n",
            " 38  encoded_payment_7                   459064 non-null  float64\n",
            " 39  encoded_payment_8                   459325 non-null  float64\n",
            " 40  encoded_payment_9                   458736 non-null  float64\n",
            " 41  encoded_payment_10                  459001 non-null  float64\n",
            " 42  encoded_payment_11                  459428 non-null  float64\n",
            " 43  encoded_payment_12                  458041 non-null  float64\n",
            " 44  encoded_payment_13                  459216 non-null  float64\n",
            " 45  encoded_payment_14                  458036 non-null  float64\n",
            " 46  encoded_payment_15                  458625 non-null  float64\n",
            " 47  encoded_payment_16                  459365 non-null  float64\n",
            " 48  encoded_payment_17                  458153 non-null  float64\n",
            " 49  encoded_payment_18                  459429 non-null  float64\n",
            " 50  encoded_payment_19                  458580 non-null  float64\n",
            " 51  encoded_payment_20                  458035 non-null  float64\n",
            " 52  encoded_payment_21                  458386 non-null  float64\n",
            " 53  encoded_payment_22                  458579 non-null  float64\n",
            " 54  encoded_payment_23                  458777 non-null  float64\n",
            " 55  encoded_payment_24                  458908 non-null  float64\n",
            " 56  encoded_loans_account_holder_type   474289 non-null  int64  \n",
            " 57  encoded_loans_credit_status         474289 non-null  int64  \n",
            " 58  encoded_loans_credit_type           474289 non-null  int64  \n",
            " 59  encoded_loans_account_currency      474289 non-null  int64  \n",
            "dtypes: float64(25), int64(24), object(11)\n",
            "memory usage: 217.1+ MB\n"
          ]
        }
      ],
      "source": [
        "testing_df.info()"
      ]
    },
    {
      "cell_type": "code",
      "execution_count": null,
      "metadata": {
        "colab": {
          "base_uri": "https://localhost:8080/"
        },
        "id": "95mCNAvHO1Lk",
        "outputId": "0e1289d4-931f-46bd-a132-6c2e7dec7a66"
      },
      "outputs": [
        {
          "output_type": "execute_result",
          "data": {
            "text/plain": [
              "{'customer_id': 0,\n",
              " 'firstname': 0,\n",
              " 'lastname': 0,\n",
              " 'record_number': 0,\n",
              " 'days_since_opened': 0,\n",
              " 'days_since_confirmed': 0,\n",
              " 'primary_term': 0,\n",
              " 'final_term': 0,\n",
              " 'days_till_primary_close': 0,\n",
              " 'days_till_final_close': 0,\n",
              " 'loans_credit_limit': 0,\n",
              " 'loans_next_payment_summary': 0,\n",
              " 'loans_outstanding_balance': 0,\n",
              " 'loans_max_overdue_amount': 0,\n",
              " 'loans_credit_cost_rate': 0,\n",
              " 'loans_within_5_days': 0,\n",
              " 'loans_within_5_to_30_days': 0,\n",
              " 'loans_within_30_to_60_days': 0,\n",
              " 'loans_within_60_to_90_days': 0,\n",
              " 'loans_over_90_days': 0,\n",
              " 'is_zero_loans_within_5_days': 0,\n",
              " 'is_zero_loans_within_5_to_30_days': 0,\n",
              " 'is_zero_loans_within_30_to_60_days': 0,\n",
              " 'is_zero_loans_within_60_to_90_days': 0,\n",
              " 'is_zero_loans_over_90_days': 0,\n",
              " 'utilization': 0,\n",
              " 'over_limit_count': 0,\n",
              " 'max_over_limit_count': 0,\n",
              " 'is_zero_utilization': 0,\n",
              " 'is_zero_over_limit_count': 0,\n",
              " 'is_zero_max_over_limit_count': 0,\n",
              " 'encoded_payment_0': 37619,\n",
              " 'encoded_payment_1': 35744,\n",
              " 'encoded_payment_2': 34612,\n",
              " 'encoded_payment_3': 37416,\n",
              " 'encoded_payment_4': 35840,\n",
              " 'encoded_payment_5': 35304,\n",
              " 'encoded_payment_6': 38019,\n",
              " 'encoded_payment_7': 35629,\n",
              " 'encoded_payment_8': 34762,\n",
              " 'encoded_payment_9': 35851,\n",
              " 'encoded_payment_10': 35635,\n",
              " 'encoded_payment_11': 35199,\n",
              " 'encoded_payment_12': 37808,\n",
              " 'encoded_payment_13': 35351,\n",
              " 'encoded_payment_14': 37459,\n",
              " 'encoded_payment_15': 36674,\n",
              " 'encoded_payment_16': 34712,\n",
              " 'encoded_payment_17': 37315,\n",
              " 'encoded_payment_18': 35268,\n",
              " 'encoded_payment_19': 36381,\n",
              " 'encoded_payment_20': 37519,\n",
              " 'encoded_payment_21': 37548,\n",
              " 'encoded_payment_22': 37155,\n",
              " 'encoded_payment_23': 36543,\n",
              " 'encoded_payment_24': 36045,\n",
              " 'encoded_loans_account_holder_type': 0,\n",
              " 'encoded_loans_credit_status': 0,\n",
              " 'encoded_loans_credit_type': 0,\n",
              " 'encoded_loans_account_currency': 0,\n",
              " 'primary_close_flag': 0,\n",
              " 'final_close_flag': 0}"
            ]
          },
          "metadata": {},
          "execution_count": 12
        }
      ],
      "source": [
        "dict(training_df.isnull().sum())"
      ]
    },
    {
      "cell_type": "code",
      "execution_count": null,
      "metadata": {
        "id": "0QLwNIQUPNsw"
      },
      "outputs": [],
      "source": [
        "def fill_missing_value(df):\n",
        "  encoded_features = ['encoded_payment_' + str(i) for i in range(25)]\n",
        "  Imputer=SimpleImputer(strategy='most_frequent')\n",
        "  df[encoded_features] = Imputer.fit_transform(df[encoded_features])\n",
        "  return df"
      ]
    },
    {
      "cell_type": "code",
      "execution_count": null,
      "metadata": {
        "id": "j0OpF0iKSZeZ"
      },
      "outputs": [],
      "source": [
        "def drop_columns(df):\n",
        "  drop_columns=['customer_id','firstname','lastname']\n",
        "  df = df.drop(columns=drop_columns)\n",
        "  return df"
      ]
    },
    {
      "cell_type": "code",
      "execution_count": null,
      "metadata": {
        "id": "r4O9qIxrYhEK"
      },
      "outputs": [],
      "source": [
        "def normalization(df):\n",
        "    min_max_scaler = MinMaxScaler()\n",
        "    label = ['primary_close_flag', 'final_close_flag']\n",
        "\n",
        "    for column in df.columns:\n",
        "        if column not in label and pd.api.types.is_numeric_dtype(df[column]):\n",
        "            df[column] = min_max_scaler.fit_transform(df[[column]])\n",
        "    return df"
      ]
    },
    {
      "cell_type": "code",
      "execution_count": null,
      "metadata": {
        "id": "NVeXRjbMbaEH"
      },
      "outputs": [],
      "source": [
        "def categorical_to_numerals(df):\n",
        "    columns_to_encode = [\n",
        "      'is_zero_loans_within_5_days',\n",
        "      'is_zero_loans_within_5_to_30_days',\n",
        "      'is_zero_loans_within_30_to_60_days',\n",
        "      'is_zero_loans_within_60_to_90_days',\n",
        "      'is_zero_loans_over_90_days',\n",
        "      'is_zero_utilization',\n",
        "      'is_zero_over_limit_count',\n",
        "      'is_zero_max_over_limit_count'\n",
        "      ]\n",
        "\n",
        "    encoder = LabelEncoder()\n",
        "\n",
        "    for column in columns_to_encode:\n",
        "        df[column] = encoder.fit_transform(df[column])\n",
        "    #print('column : ',df.columns)\n",
        "\n",
        "    return df"
      ]
    },
    {
      "cell_type": "code",
      "execution_count": null,
      "metadata": {
        "id": "7LME852iey9b"
      },
      "outputs": [],
      "source": [
        "def preprocessing(df):\n",
        "    print(\"Starting Step 1 : fill_missing_value\")\n",
        "    df = fill_missing_value(df)\n",
        "    print(\"Step 1 : fill_missing_value Completed\")\n",
        "    print(\"Starting Step 2 : dropping Columns\")\n",
        "    df = drop_columns(df)\n",
        "    print(\"Step 2 : dropping Columns Completed\")\n",
        "    print(\"Starting Step 3 : normalization\")\n",
        "    df = normalization(df)\n",
        "    print(\"Step 3 : normalization Completed\")\n",
        "    print(\"Starting Step 4 : categorical_to_numerals\")\n",
        "    df = categorical_to_numerals(df)\n",
        "    print(\"Step 4 : categorical_to_numerals Completed\")\n",
        "    return df"
      ]
    },
    {
      "cell_type": "code",
      "execution_count": null,
      "metadata": {
        "colab": {
          "base_uri": "https://localhost:8080/"
        },
        "id": "p6DJ28ujfqNd",
        "outputId": "a534ec5f-7b71-4503-9c5b-2d6ef8f332d8"
      },
      "outputs": [
        {
          "output_type": "stream",
          "name": "stdout",
          "text": [
            "Starting Step 1 : fill_missing_value\n",
            "Step 1 : fill_missing_value Completed\n",
            "Starting Step 2 : dropping Columns\n",
            "Step 2 : dropping Columns Completed\n",
            "Starting Step 3 : normalization\n",
            "Step 3 : normalization Completed\n",
            "Starting Step 4 : categorical_to_numerals\n",
            "Step 4 : categorical_to_numerals Completed\n"
          ]
        }
      ],
      "source": [
        "training_df = preprocessing(training_df)"
      ]
    },
    {
      "cell_type": "code",
      "execution_count": null,
      "metadata": {
        "colab": {
          "base_uri": "https://localhost:8080/"
        },
        "id": "bPxyuoQtWmC9",
        "outputId": "472bb87f-2d55-4fc1-8e7d-993cee6008f4"
      },
      "outputs": [
        {
          "output_type": "stream",
          "name": "stdout",
          "text": [
            "Starting Step 1 : fill_missing_value\n",
            "Step 1 : fill_missing_value Completed\n",
            "Starting Step 2 : dropping Columns\n",
            "Step 2 : dropping Columns Completed\n",
            "Starting Step 3 : normalization\n",
            "Step 3 : normalization Completed\n",
            "Starting Step 4 : categorical_to_numerals\n",
            "Step 4 : categorical_to_numerals Completed\n"
          ]
        }
      ],
      "source": [
        "testing_df = preprocessing(testing_df)\n"
      ]
    },
    {
      "cell_type": "code",
      "execution_count": null,
      "metadata": {
        "colab": {
          "base_uri": "https://localhost:8080/"
        },
        "id": "Gz93ofYAsBPY",
        "outputId": "481c4f0d-6224-415d-f064-3f3793951715"
      },
      "outputs": [
        {
          "name": "stdout",
          "output_type": "stream",
          "text": [
            "<class 'pandas.core.frame.DataFrame'>\n",
            "RangeIndex: 1106674 entries, 0 to 1106673\n",
            "Data columns (total 59 columns):\n",
            " #   Column                              Non-Null Count    Dtype  \n",
            "---  ------                              --------------    -----  \n",
            " 0   record_number                       1106674 non-null  float64\n",
            " 1   days_since_opened                   1106674 non-null  float64\n",
            " 2   days_since_confirmed                1106674 non-null  float64\n",
            " 3   primary_term                        1106674 non-null  float64\n",
            " 4   final_term                          1106674 non-null  float64\n",
            " 5   days_till_primary_close             1106674 non-null  float64\n",
            " 6   days_till_final_close               1106674 non-null  float64\n",
            " 7   loans_credit_limit                  1106674 non-null  float64\n",
            " 8   loans_next_payment_summary          1106674 non-null  float64\n",
            " 9   loans_outstanding_balance           1106674 non-null  float64\n",
            " 10  loans_max_overdue_amount            1106674 non-null  float64\n",
            " 11  loans_credit_cost_rate              1106674 non-null  float64\n",
            " 12  loans_within_5_days                 1106674 non-null  float64\n",
            " 13  loans_within_5_to_30_days           1106674 non-null  float64\n",
            " 14  loans_within_30_to_60_days          1106674 non-null  float64\n",
            " 15  loans_within_60_to_90_days          1106674 non-null  float64\n",
            " 16  loans_over_90_days                  1106674 non-null  float64\n",
            " 17  is_zero_loans_within_5_days         1106674 non-null  int64  \n",
            " 18  is_zero_loans_within_5_to_30_days   1106674 non-null  int64  \n",
            " 19  is_zero_loans_within_30_to_60_days  1106674 non-null  int64  \n",
            " 20  is_zero_loans_within_60_to_90_days  1106674 non-null  int64  \n",
            " 21  is_zero_loans_over_90_days          1106674 non-null  int64  \n",
            " 22  utilization                         1106674 non-null  float64\n",
            " 23  over_limit_count                    1106674 non-null  float64\n",
            " 24  max_over_limit_count                1106674 non-null  float64\n",
            " 25  is_zero_utilization                 1106674 non-null  int64  \n",
            " 26  is_zero_over_limit_count            1106674 non-null  int64  \n",
            " 27  is_zero_max_over_limit_count        1106674 non-null  int64  \n",
            " 28  encoded_payment_0                   1106674 non-null  float64\n",
            " 29  encoded_payment_1                   1106674 non-null  float64\n",
            " 30  encoded_payment_2                   1106674 non-null  float64\n",
            " 31  encoded_payment_3                   1106674 non-null  float64\n",
            " 32  encoded_payment_4                   1106674 non-null  float64\n",
            " 33  encoded_payment_5                   1106674 non-null  float64\n",
            " 34  encoded_payment_6                   1106674 non-null  float64\n",
            " 35  encoded_payment_7                   1106674 non-null  float64\n",
            " 36  encoded_payment_8                   1106674 non-null  float64\n",
            " 37  encoded_payment_9                   1106674 non-null  float64\n",
            " 38  encoded_payment_10                  1106674 non-null  float64\n",
            " 39  encoded_payment_11                  1106674 non-null  float64\n",
            " 40  encoded_payment_12                  1106674 non-null  float64\n",
            " 41  encoded_payment_13                  1106674 non-null  float64\n",
            " 42  encoded_payment_14                  1106674 non-null  float64\n",
            " 43  encoded_payment_15                  1106674 non-null  float64\n",
            " 44  encoded_payment_16                  1106674 non-null  float64\n",
            " 45  encoded_payment_17                  1106674 non-null  float64\n",
            " 46  encoded_payment_18                  1106674 non-null  float64\n",
            " 47  encoded_payment_19                  1106674 non-null  float64\n",
            " 48  encoded_payment_20                  1106674 non-null  float64\n",
            " 49  encoded_payment_21                  1106674 non-null  float64\n",
            " 50  encoded_payment_22                  1106674 non-null  float64\n",
            " 51  encoded_payment_23                  1106674 non-null  float64\n",
            " 52  encoded_payment_24                  1106674 non-null  float64\n",
            " 53  encoded_loans_account_holder_type   1106674 non-null  float64\n",
            " 54  encoded_loans_credit_status         1106674 non-null  float64\n",
            " 55  encoded_loans_credit_type           1106674 non-null  float64\n",
            " 56  encoded_loans_account_currency      1106674 non-null  float64\n",
            " 57  primary_close_flag                  1106674 non-null  int64  \n",
            " 58  final_close_flag                    1106674 non-null  int64  \n",
            "dtypes: float64(49), int64(10)\n",
            "memory usage: 498.2 MB\n"
          ]
        }
      ],
      "source": [
        "training_df.info()"
      ]
    },
    {
      "cell_type": "code",
      "execution_count": null,
      "metadata": {
        "colab": {
          "base_uri": "https://localhost:8080/"
        },
        "id": "jPEPu8R6tuAi",
        "outputId": "19365a64-d07c-4296-dee2-0f8f2a2d1f6e"
      },
      "outputs": [
        {
          "data": {
            "text/plain": [
              "Index(['record_number', 'days_since_opened', 'days_since_confirmed',\n",
              "       'primary_term', 'final_term', 'days_till_primary_close',\n",
              "       'days_till_final_close', 'loans_credit_limit',\n",
              "       'loans_next_payment_summary', 'loans_outstanding_balance',\n",
              "       'loans_max_overdue_amount', 'loans_credit_cost_rate',\n",
              "       'loans_within_5_days', 'loans_within_5_to_30_days',\n",
              "       'loans_within_30_to_60_days', 'loans_within_60_to_90_days',\n",
              "       'loans_over_90_days', 'is_zero_loans_within_5_days',\n",
              "       'is_zero_loans_within_5_to_30_days',\n",
              "       'is_zero_loans_within_30_to_60_days',\n",
              "       'is_zero_loans_within_60_to_90_days', 'is_zero_loans_over_90_days',\n",
              "       'utilization', 'over_limit_count', 'max_over_limit_count',\n",
              "       'is_zero_utilization', 'is_zero_over_limit_count',\n",
              "       'is_zero_max_over_limit_count', 'encoded_payment_0',\n",
              "       'encoded_payment_1', 'encoded_payment_2', 'encoded_payment_3',\n",
              "       'encoded_payment_4', 'encoded_payment_5', 'encoded_payment_6',\n",
              "       'encoded_payment_7', 'encoded_payment_8', 'encoded_payment_9',\n",
              "       'encoded_payment_10', 'encoded_payment_11', 'encoded_payment_12',\n",
              "       'encoded_payment_13', 'encoded_payment_14', 'encoded_payment_15',\n",
              "       'encoded_payment_16', 'encoded_payment_17', 'encoded_payment_18',\n",
              "       'encoded_payment_19', 'encoded_payment_20', 'encoded_payment_21',\n",
              "       'encoded_payment_22', 'encoded_payment_23', 'encoded_payment_24',\n",
              "       'encoded_loans_account_holder_type', 'encoded_loans_credit_status',\n",
              "       'encoded_loans_credit_type', 'encoded_loans_account_currency',\n",
              "       'primary_close_flag', 'final_close_flag'],\n",
              "      dtype='object')"
            ]
          },
          "execution_count": 23,
          "metadata": {},
          "output_type": "execute_result"
        }
      ],
      "source": [
        "training_df.columns"
      ]
    },
    {
      "cell_type": "code",
      "execution_count": null,
      "metadata": {
        "colab": {
          "base_uri": "https://localhost:8080/"
        },
        "id": "BPpvyRGzumJy",
        "outputId": "dbe091fb-f0a0-40e4-bacb-48a14b848c13"
      },
      "outputs": [
        {
          "data": {
            "text/plain": [
              "Index(['record_number', 'days_since_opened', 'days_since_confirmed',\n",
              "       'primary_term', 'final_term', 'days_till_primary_close',\n",
              "       'days_till_final_close', 'loans_credit_limit',\n",
              "       'loans_next_payment_summary', 'loans_outstanding_balance',\n",
              "       'loans_max_overdue_amount', 'loans_credit_cost_rate',\n",
              "       'loans_within_5_days', 'loans_within_5_to_30_days',\n",
              "       'loans_within_30_to_60_days', 'loans_within_60_to_90_days',\n",
              "       'loans_over_90_days', 'is_zero_loans_within_5_days',\n",
              "       'is_zero_loans_within_5_to_30_days',\n",
              "       'is_zero_loans_within_30_to_60_days',\n",
              "       'is_zero_loans_within_60_to_90_days', 'is_zero_loans_over_90_days',\n",
              "       'utilization', 'over_limit_count', 'max_over_limit_count',\n",
              "       'is_zero_utilization', 'is_zero_over_limit_count',\n",
              "       'is_zero_max_over_limit_count', 'encoded_payment_0',\n",
              "       'encoded_payment_1', 'encoded_payment_2', 'encoded_payment_3',\n",
              "       'encoded_payment_4', 'encoded_payment_5', 'encoded_payment_6',\n",
              "       'encoded_payment_7', 'encoded_payment_8', 'encoded_payment_9',\n",
              "       'encoded_payment_10', 'encoded_payment_11', 'encoded_payment_12',\n",
              "       'encoded_payment_13', 'encoded_payment_14', 'encoded_payment_15',\n",
              "       'encoded_payment_16', 'encoded_payment_17', 'encoded_payment_18',\n",
              "       'encoded_payment_19', 'encoded_payment_20', 'encoded_payment_21',\n",
              "       'encoded_payment_22', 'encoded_payment_23', 'encoded_payment_24',\n",
              "       'encoded_loans_account_holder_type', 'encoded_loans_credit_status',\n",
              "       'encoded_loans_credit_type', 'encoded_loans_account_currency'],\n",
              "      dtype='object')"
            ]
          },
          "execution_count": 24,
          "metadata": {},
          "output_type": "execute_result"
        }
      ],
      "source": [
        "testing_df.columns"
      ]
    },
    {
      "cell_type": "markdown",
      "metadata": {
        "id": "4ANZ-03Wt_mj"
      },
      "source": [
        "**Exploratory Data Analysis**"
      ]
    },
    {
      "cell_type": "code",
      "execution_count": null,
      "metadata": {
        "colab": {
          "base_uri": "https://localhost:8080/"
        },
        "id": "Phav5hSMt97w",
        "outputId": "e83e45d4-b71c-4a9c-8d07-9f14bc8f5e48"
      },
      "outputs": [
        {
          "output_type": "execute_result",
          "data": {
            "text/plain": [
              "0.16817870483990768"
            ]
          },
          "metadata": {},
          "execution_count": 20
        }
      ],
      "source": [
        "sum(training_df['primary_close_flag'] != training_df['final_close_flag'])/len(training_df)\n",
        "# Checking Propotion of 2 Output Labels which different in primary and Final Flags"
      ]
    },
    {
      "cell_type": "code",
      "execution_count": null,
      "metadata": {
        "id": "bou8SqrZxG8D"
      },
      "outputs": [],
      "source": [
        "def split_data():\n",
        "    #Splitting the data for Training\n",
        "    label = ['primary_close_flag', 'final_close_flag']\n",
        "    x = training_df.drop(columns=label)\n",
        "    y = training_df[label]\n",
        "    x_train, x_test, y_train, y_test = train_test_split(x, y, test_size=0.3, random_state=30)\n",
        "    return x,y,x_train, x_test, y_train, y_test"
      ]
    },
    {
      "cell_type": "code",
      "execution_count": null,
      "metadata": {
        "colab": {
          "base_uri": "https://localhost:8080/"
        },
        "id": "E9I0nbvdgPXS",
        "outputId": "ac15a351-7467-4e68-cebb-cb27c893de88"
      },
      "outputs": [
        {
          "output_type": "stream",
          "name": "stdout",
          "text": [
            "splitting data\n"
          ]
        }
      ],
      "source": [
        "print(\"splitting data\")\n",
        "x,y,x_train, x_test, y_train, y_test = split_data()\n"
      ]
    },
    {
      "cell_type": "code",
      "execution_count": null,
      "metadata": {
        "colab": {
          "base_uri": "https://localhost:8080/"
        },
        "id": "0DVV7fK9trUE",
        "outputId": "d14d8371-8b4e-4608-9fcf-b41174e5892d"
      },
      "outputs": [
        {
          "data": {
            "text/plain": [
              "record_number                        float64\n",
              "days_since_opened                    float64\n",
              "days_since_confirmed                 float64\n",
              "primary_term                         float64\n",
              "final_term                           float64\n",
              "                                      ...   \n",
              "encoded_payment_24                   float64\n",
              "encoded_loans_account_holder_type    float64\n",
              "encoded_loans_credit_status          float64\n",
              "encoded_loans_credit_type            float64\n",
              "encoded_loans_account_currency       float64\n",
              "Length: 57, dtype: object"
            ]
          },
          "execution_count": 24,
          "metadata": {},
          "output_type": "execute_result"
        }
      ],
      "source": [
        "x_train.dtypes"
      ]
    },
    {
      "cell_type": "code",
      "execution_count": null,
      "metadata": {
        "colab": {
          "base_uri": "https://localhost:8080/",
          "height": 349
        },
        "id": "gK9IOwcxf0W6",
        "outputId": "9a1b7721-5875-41bc-fd98-3eab52d336e9"
      },
      "outputs": [
        {
          "data": {
            "application/vnd.google.colaboratory.intrinsic+json": {
              "type": "dataframe"
            },
            "text/html": [
              "\n",
              "  <div id=\"df-3266f452-21d7-4545-91ed-9c9b6bf72992\" class=\"colab-df-container\">\n",
              "    <div>\n",
              "<style scoped>\n",
              "    .dataframe tbody tr th:only-of-type {\n",
              "        vertical-align: middle;\n",
              "    }\n",
              "\n",
              "    .dataframe tbody tr th {\n",
              "        vertical-align: top;\n",
              "    }\n",
              "\n",
              "    .dataframe thead th {\n",
              "        text-align: right;\n",
              "    }\n",
              "</style>\n",
              "<table border=\"1\" class=\"dataframe\">\n",
              "  <thead>\n",
              "    <tr style=\"text-align: right;\">\n",
              "      <th></th>\n",
              "      <th>record_number</th>\n",
              "      <th>days_since_opened</th>\n",
              "      <th>days_since_confirmed</th>\n",
              "      <th>primary_term</th>\n",
              "      <th>final_term</th>\n",
              "      <th>days_till_primary_close</th>\n",
              "      <th>days_till_final_close</th>\n",
              "      <th>loans_credit_limit</th>\n",
              "      <th>loans_next_payment_summary</th>\n",
              "      <th>loans_outstanding_balance</th>\n",
              "      <th>...</th>\n",
              "      <th>encoded_payment_21</th>\n",
              "      <th>encoded_payment_22</th>\n",
              "      <th>encoded_payment_23</th>\n",
              "      <th>encoded_payment_24</th>\n",
              "      <th>encoded_loans_account_holder_type</th>\n",
              "      <th>encoded_loans_credit_status</th>\n",
              "      <th>encoded_loans_credit_type</th>\n",
              "      <th>encoded_loans_account_currency</th>\n",
              "      <th>primary_close_flag</th>\n",
              "      <th>final_close_flag</th>\n",
              "    </tr>\n",
              "  </thead>\n",
              "  <tbody>\n",
              "    <tr>\n",
              "      <th>count</th>\n",
              "      <td>1106674.0</td>\n",
              "      <td>1106674.0</td>\n",
              "      <td>1106674.0</td>\n",
              "      <td>1106674.0</td>\n",
              "      <td>1106674.0</td>\n",
              "      <td>1106674.0</td>\n",
              "      <td>1106674.0</td>\n",
              "      <td>1106674.0</td>\n",
              "      <td>1106674.0</td>\n",
              "      <td>1106674.0</td>\n",
              "      <td>...</td>\n",
              "      <td>1106674.0</td>\n",
              "      <td>1106674.0</td>\n",
              "      <td>1106674.0</td>\n",
              "      <td>1106674.0</td>\n",
              "      <td>1106674.0</td>\n",
              "      <td>1106674.0</td>\n",
              "      <td>1106674.0</td>\n",
              "      <td>1106674.0</td>\n",
              "      <td>1106674.0</td>\n",
              "      <td>1106674.0</td>\n",
              "    </tr>\n",
              "    <tr>\n",
              "      <th>mean</th>\n",
              "      <td>0.2</td>\n",
              "      <td>0.5</td>\n",
              "      <td>0.5</td>\n",
              "      <td>0.5</td>\n",
              "      <td>0.5</td>\n",
              "      <td>0.5</td>\n",
              "      <td>0.5</td>\n",
              "      <td>0.5</td>\n",
              "      <td>0.4</td>\n",
              "      <td>0.5</td>\n",
              "      <td>...</td>\n",
              "      <td>0.8</td>\n",
              "      <td>0.8</td>\n",
              "      <td>0.8</td>\n",
              "      <td>0.8</td>\n",
              "      <td>0.2</td>\n",
              "      <td>0.5</td>\n",
              "      <td>0.5</td>\n",
              "      <td>0.3</td>\n",
              "      <td>0.1</td>\n",
              "      <td>0.2</td>\n",
              "    </tr>\n",
              "    <tr>\n",
              "      <th>std</th>\n",
              "      <td>0.1</td>\n",
              "      <td>0.3</td>\n",
              "      <td>0.3</td>\n",
              "      <td>0.3</td>\n",
              "      <td>0.3</td>\n",
              "      <td>0.3</td>\n",
              "      <td>0.3</td>\n",
              "      <td>0.3</td>\n",
              "      <td>0.2</td>\n",
              "      <td>0.2</td>\n",
              "      <td>...</td>\n",
              "      <td>0.4</td>\n",
              "      <td>0.4</td>\n",
              "      <td>0.4</td>\n",
              "      <td>0.4</td>\n",
              "      <td>0.0</td>\n",
              "      <td>0.1</td>\n",
              "      <td>0.1</td>\n",
              "      <td>0.0</td>\n",
              "      <td>0.3</td>\n",
              "      <td>0.4</td>\n",
              "    </tr>\n",
              "    <tr>\n",
              "      <th>min</th>\n",
              "      <td>0.0</td>\n",
              "      <td>0.0</td>\n",
              "      <td>0.0</td>\n",
              "      <td>0.0</td>\n",
              "      <td>0.0</td>\n",
              "      <td>0.0</td>\n",
              "      <td>0.0</td>\n",
              "      <td>0.0</td>\n",
              "      <td>0.0</td>\n",
              "      <td>0.0</td>\n",
              "      <td>...</td>\n",
              "      <td>0.0</td>\n",
              "      <td>0.0</td>\n",
              "      <td>0.0</td>\n",
              "      <td>0.0</td>\n",
              "      <td>0.0</td>\n",
              "      <td>0.0</td>\n",
              "      <td>0.0</td>\n",
              "      <td>0.0</td>\n",
              "      <td>0.0</td>\n",
              "      <td>0.0</td>\n",
              "    </tr>\n",
              "    <tr>\n",
              "      <th>25%</th>\n",
              "      <td>0.1</td>\n",
              "      <td>0.3</td>\n",
              "      <td>0.2</td>\n",
              "      <td>0.2</td>\n",
              "      <td>0.3</td>\n",
              "      <td>0.1</td>\n",
              "      <td>0.3</td>\n",
              "      <td>0.3</td>\n",
              "      <td>0.3</td>\n",
              "      <td>0.5</td>\n",
              "      <td>...</td>\n",
              "      <td>1.0</td>\n",
              "      <td>1.0</td>\n",
              "      <td>1.0</td>\n",
              "      <td>1.0</td>\n",
              "      <td>0.2</td>\n",
              "      <td>0.3</td>\n",
              "      <td>0.4</td>\n",
              "      <td>0.3</td>\n",
              "      <td>0.0</td>\n",
              "      <td>0.0</td>\n",
              "    </tr>\n",
              "    <tr>\n",
              "      <th>50%</th>\n",
              "      <td>0.2</td>\n",
              "      <td>0.5</td>\n",
              "      <td>0.5</td>\n",
              "      <td>0.5</td>\n",
              "      <td>0.5</td>\n",
              "      <td>0.4</td>\n",
              "      <td>0.6</td>\n",
              "      <td>0.5</td>\n",
              "      <td>0.3</td>\n",
              "      <td>0.5</td>\n",
              "      <td>...</td>\n",
              "      <td>1.0</td>\n",
              "      <td>1.0</td>\n",
              "      <td>1.0</td>\n",
              "      <td>1.0</td>\n",
              "      <td>0.2</td>\n",
              "      <td>0.5</td>\n",
              "      <td>0.6</td>\n",
              "      <td>0.3</td>\n",
              "      <td>0.0</td>\n",
              "      <td>0.0</td>\n",
              "    </tr>\n",
              "    <tr>\n",
              "      <th>75%</th>\n",
              "      <td>0.3</td>\n",
              "      <td>0.7</td>\n",
              "      <td>0.7</td>\n",
              "      <td>0.8</td>\n",
              "      <td>0.8</td>\n",
              "      <td>0.8</td>\n",
              "      <td>0.7</td>\n",
              "      <td>0.8</td>\n",
              "      <td>0.3</td>\n",
              "      <td>0.5</td>\n",
              "      <td>...</td>\n",
              "      <td>1.0</td>\n",
              "      <td>1.0</td>\n",
              "      <td>1.0</td>\n",
              "      <td>1.0</td>\n",
              "      <td>0.2</td>\n",
              "      <td>0.5</td>\n",
              "      <td>0.6</td>\n",
              "      <td>0.3</td>\n",
              "      <td>0.0</td>\n",
              "      <td>0.0</td>\n",
              "    </tr>\n",
              "    <tr>\n",
              "      <th>max</th>\n",
              "      <td>1.0</td>\n",
              "      <td>1.0</td>\n",
              "      <td>1.0</td>\n",
              "      <td>1.0</td>\n",
              "      <td>1.0</td>\n",
              "      <td>1.0</td>\n",
              "      <td>1.0</td>\n",
              "      <td>1.0</td>\n",
              "      <td>1.0</td>\n",
              "      <td>1.0</td>\n",
              "      <td>...</td>\n",
              "      <td>1.0</td>\n",
              "      <td>1.0</td>\n",
              "      <td>1.0</td>\n",
              "      <td>1.0</td>\n",
              "      <td>1.0</td>\n",
              "      <td>1.0</td>\n",
              "      <td>1.0</td>\n",
              "      <td>1.0</td>\n",
              "      <td>1.0</td>\n",
              "      <td>1.0</td>\n",
              "    </tr>\n",
              "  </tbody>\n",
              "</table>\n",
              "<p>8 rows × 59 columns</p>\n",
              "</div>\n",
              "    <div class=\"colab-df-buttons\">\n",
              "\n",
              "  <div class=\"colab-df-container\">\n",
              "    <button class=\"colab-df-convert\" onclick=\"convertToInteractive('df-3266f452-21d7-4545-91ed-9c9b6bf72992')\"\n",
              "            title=\"Convert this dataframe to an interactive table.\"\n",
              "            style=\"display:none;\">\n",
              "\n",
              "  <svg xmlns=\"http://www.w3.org/2000/svg\" height=\"24px\" viewBox=\"0 -960 960 960\">\n",
              "    <path d=\"M120-120v-720h720v720H120Zm60-500h600v-160H180v160Zm220 220h160v-160H400v160Zm0 220h160v-160H400v160ZM180-400h160v-160H180v160Zm440 0h160v-160H620v160ZM180-180h160v-160H180v160Zm440 0h160v-160H620v160Z\"/>\n",
              "  </svg>\n",
              "    </button>\n",
              "\n",
              "  <style>\n",
              "    .colab-df-container {\n",
              "      display:flex;\n",
              "      gap: 12px;\n",
              "    }\n",
              "\n",
              "    .colab-df-convert {\n",
              "      background-color: #E8F0FE;\n",
              "      border: none;\n",
              "      border-radius: 50%;\n",
              "      cursor: pointer;\n",
              "      display: none;\n",
              "      fill: #1967D2;\n",
              "      height: 32px;\n",
              "      padding: 0 0 0 0;\n",
              "      width: 32px;\n",
              "    }\n",
              "\n",
              "    .colab-df-convert:hover {\n",
              "      background-color: #E2EBFA;\n",
              "      box-shadow: 0px 1px 2px rgba(60, 64, 67, 0.3), 0px 1px 3px 1px rgba(60, 64, 67, 0.15);\n",
              "      fill: #174EA6;\n",
              "    }\n",
              "\n",
              "    .colab-df-buttons div {\n",
              "      margin-bottom: 4px;\n",
              "    }\n",
              "\n",
              "    [theme=dark] .colab-df-convert {\n",
              "      background-color: #3B4455;\n",
              "      fill: #D2E3FC;\n",
              "    }\n",
              "\n",
              "    [theme=dark] .colab-df-convert:hover {\n",
              "      background-color: #434B5C;\n",
              "      box-shadow: 0px 1px 3px 1px rgba(0, 0, 0, 0.15);\n",
              "      filter: drop-shadow(0px 1px 2px rgba(0, 0, 0, 0.3));\n",
              "      fill: #FFFFFF;\n",
              "    }\n",
              "  </style>\n",
              "\n",
              "    <script>\n",
              "      const buttonEl =\n",
              "        document.querySelector('#df-3266f452-21d7-4545-91ed-9c9b6bf72992 button.colab-df-convert');\n",
              "      buttonEl.style.display =\n",
              "        google.colab.kernel.accessAllowed ? 'block' : 'none';\n",
              "\n",
              "      async function convertToInteractive(key) {\n",
              "        const element = document.querySelector('#df-3266f452-21d7-4545-91ed-9c9b6bf72992');\n",
              "        const dataTable =\n",
              "          await google.colab.kernel.invokeFunction('convertToInteractive',\n",
              "                                                    [key], {});\n",
              "        if (!dataTable) return;\n",
              "\n",
              "        const docLinkHtml = 'Like what you see? Visit the ' +\n",
              "          '<a target=\"_blank\" href=https://colab.research.google.com/notebooks/data_table.ipynb>data table notebook</a>'\n",
              "          + ' to learn more about interactive tables.';\n",
              "        element.innerHTML = '';\n",
              "        dataTable['output_type'] = 'display_data';\n",
              "        await google.colab.output.renderOutput(dataTable, element);\n",
              "        const docLink = document.createElement('div');\n",
              "        docLink.innerHTML = docLinkHtml;\n",
              "        element.appendChild(docLink);\n",
              "      }\n",
              "    </script>\n",
              "  </div>\n",
              "\n",
              "\n",
              "<div id=\"df-94353340-2c47-42ae-944e-2b9371833607\">\n",
              "  <button class=\"colab-df-quickchart\" onclick=\"quickchart('df-94353340-2c47-42ae-944e-2b9371833607')\"\n",
              "            title=\"Suggest charts\"\n",
              "            style=\"display:none;\">\n",
              "\n",
              "<svg xmlns=\"http://www.w3.org/2000/svg\" height=\"24px\"viewBox=\"0 0 24 24\"\n",
              "     width=\"24px\">\n",
              "    <g>\n",
              "        <path d=\"M19 3H5c-1.1 0-2 .9-2 2v14c0 1.1.9 2 2 2h14c1.1 0 2-.9 2-2V5c0-1.1-.9-2-2-2zM9 17H7v-7h2v7zm4 0h-2V7h2v10zm4 0h-2v-4h2v4z\"/>\n",
              "    </g>\n",
              "</svg>\n",
              "  </button>\n",
              "\n",
              "<style>\n",
              "  .colab-df-quickchart {\n",
              "      --bg-color: #E8F0FE;\n",
              "      --fill-color: #1967D2;\n",
              "      --hover-bg-color: #E2EBFA;\n",
              "      --hover-fill-color: #174EA6;\n",
              "      --disabled-fill-color: #AAA;\n",
              "      --disabled-bg-color: #DDD;\n",
              "  }\n",
              "\n",
              "  [theme=dark] .colab-df-quickchart {\n",
              "      --bg-color: #3B4455;\n",
              "      --fill-color: #D2E3FC;\n",
              "      --hover-bg-color: #434B5C;\n",
              "      --hover-fill-color: #FFFFFF;\n",
              "      --disabled-bg-color: #3B4455;\n",
              "      --disabled-fill-color: #666;\n",
              "  }\n",
              "\n",
              "  .colab-df-quickchart {\n",
              "    background-color: var(--bg-color);\n",
              "    border: none;\n",
              "    border-radius: 50%;\n",
              "    cursor: pointer;\n",
              "    display: none;\n",
              "    fill: var(--fill-color);\n",
              "    height: 32px;\n",
              "    padding: 0;\n",
              "    width: 32px;\n",
              "  }\n",
              "\n",
              "  .colab-df-quickchart:hover {\n",
              "    background-color: var(--hover-bg-color);\n",
              "    box-shadow: 0 1px 2px rgba(60, 64, 67, 0.3), 0 1px 3px 1px rgba(60, 64, 67, 0.15);\n",
              "    fill: var(--button-hover-fill-color);\n",
              "  }\n",
              "\n",
              "  .colab-df-quickchart-complete:disabled,\n",
              "  .colab-df-quickchart-complete:disabled:hover {\n",
              "    background-color: var(--disabled-bg-color);\n",
              "    fill: var(--disabled-fill-color);\n",
              "    box-shadow: none;\n",
              "  }\n",
              "\n",
              "  .colab-df-spinner {\n",
              "    border: 2px solid var(--fill-color);\n",
              "    border-color: transparent;\n",
              "    border-bottom-color: var(--fill-color);\n",
              "    animation:\n",
              "      spin 1s steps(1) infinite;\n",
              "  }\n",
              "\n",
              "  @keyframes spin {\n",
              "    0% {\n",
              "      border-color: transparent;\n",
              "      border-bottom-color: var(--fill-color);\n",
              "      border-left-color: var(--fill-color);\n",
              "    }\n",
              "    20% {\n",
              "      border-color: transparent;\n",
              "      border-left-color: var(--fill-color);\n",
              "      border-top-color: var(--fill-color);\n",
              "    }\n",
              "    30% {\n",
              "      border-color: transparent;\n",
              "      border-left-color: var(--fill-color);\n",
              "      border-top-color: var(--fill-color);\n",
              "      border-right-color: var(--fill-color);\n",
              "    }\n",
              "    40% {\n",
              "      border-color: transparent;\n",
              "      border-right-color: var(--fill-color);\n",
              "      border-top-color: var(--fill-color);\n",
              "    }\n",
              "    60% {\n",
              "      border-color: transparent;\n",
              "      border-right-color: var(--fill-color);\n",
              "    }\n",
              "    80% {\n",
              "      border-color: transparent;\n",
              "      border-right-color: var(--fill-color);\n",
              "      border-bottom-color: var(--fill-color);\n",
              "    }\n",
              "    90% {\n",
              "      border-color: transparent;\n",
              "      border-bottom-color: var(--fill-color);\n",
              "    }\n",
              "  }\n",
              "</style>\n",
              "\n",
              "  <script>\n",
              "    async function quickchart(key) {\n",
              "      const quickchartButtonEl =\n",
              "        document.querySelector('#' + key + ' button');\n",
              "      quickchartButtonEl.disabled = true;  // To prevent multiple clicks.\n",
              "      quickchartButtonEl.classList.add('colab-df-spinner');\n",
              "      try {\n",
              "        const charts = await google.colab.kernel.invokeFunction(\n",
              "            'suggestCharts', [key], {});\n",
              "      } catch (error) {\n",
              "        console.error('Error during call to suggestCharts:', error);\n",
              "      }\n",
              "      quickchartButtonEl.classList.remove('colab-df-spinner');\n",
              "      quickchartButtonEl.classList.add('colab-df-quickchart-complete');\n",
              "    }\n",
              "    (() => {\n",
              "      let quickchartButtonEl =\n",
              "        document.querySelector('#df-94353340-2c47-42ae-944e-2b9371833607 button');\n",
              "      quickchartButtonEl.style.display =\n",
              "        google.colab.kernel.accessAllowed ? 'block' : 'none';\n",
              "    })();\n",
              "  </script>\n",
              "</div>\n",
              "\n",
              "    </div>\n",
              "  </div>\n"
            ],
            "text/plain": [
              "       record_number  days_since_opened  days_since_confirmed  primary_term  \\\n",
              "count      1106674.0          1106674.0             1106674.0     1106674.0   \n",
              "mean             0.2                0.5                   0.5           0.5   \n",
              "std              0.1                0.3                   0.3           0.3   \n",
              "min              0.0                0.0                   0.0           0.0   \n",
              "25%              0.1                0.3                   0.2           0.2   \n",
              "50%              0.2                0.5                   0.5           0.5   \n",
              "75%              0.3                0.7                   0.7           0.8   \n",
              "max              1.0                1.0                   1.0           1.0   \n",
              "\n",
              "       final_term  days_till_primary_close  days_till_final_close  \\\n",
              "count   1106674.0                1106674.0              1106674.0   \n",
              "mean          0.5                      0.5                    0.5   \n",
              "std           0.3                      0.3                    0.3   \n",
              "min           0.0                      0.0                    0.0   \n",
              "25%           0.3                      0.1                    0.3   \n",
              "50%           0.5                      0.4                    0.6   \n",
              "75%           0.8                      0.8                    0.7   \n",
              "max           1.0                      1.0                    1.0   \n",
              "\n",
              "       loans_credit_limit  loans_next_payment_summary  \\\n",
              "count           1106674.0                   1106674.0   \n",
              "mean                  0.5                         0.4   \n",
              "std                   0.3                         0.2   \n",
              "min                   0.0                         0.0   \n",
              "25%                   0.3                         0.3   \n",
              "50%                   0.5                         0.3   \n",
              "75%                   0.8                         0.3   \n",
              "max                   1.0                         1.0   \n",
              "\n",
              "       loans_outstanding_balance  ...  encoded_payment_21  encoded_payment_22  \\\n",
              "count                  1106674.0  ...           1106674.0           1106674.0   \n",
              "mean                         0.5  ...                 0.8                 0.8   \n",
              "std                          0.2  ...                 0.4                 0.4   \n",
              "min                          0.0  ...                 0.0                 0.0   \n",
              "25%                          0.5  ...                 1.0                 1.0   \n",
              "50%                          0.5  ...                 1.0                 1.0   \n",
              "75%                          0.5  ...                 1.0                 1.0   \n",
              "max                          1.0  ...                 1.0                 1.0   \n",
              "\n",
              "       encoded_payment_23  encoded_payment_24  \\\n",
              "count           1106674.0           1106674.0   \n",
              "mean                  0.8                 0.8   \n",
              "std                   0.4                 0.4   \n",
              "min                   0.0                 0.0   \n",
              "25%                   1.0                 1.0   \n",
              "50%                   1.0                 1.0   \n",
              "75%                   1.0                 1.0   \n",
              "max                   1.0                 1.0   \n",
              "\n",
              "       encoded_loans_account_holder_type  encoded_loans_credit_status  \\\n",
              "count                          1106674.0                    1106674.0   \n",
              "mean                                 0.2                          0.5   \n",
              "std                                  0.0                          0.1   \n",
              "min                                  0.0                          0.0   \n",
              "25%                                  0.2                          0.3   \n",
              "50%                                  0.2                          0.5   \n",
              "75%                                  0.2                          0.5   \n",
              "max                                  1.0                          1.0   \n",
              "\n",
              "       encoded_loans_credit_type  encoded_loans_account_currency  \\\n",
              "count                  1106674.0                       1106674.0   \n",
              "mean                         0.5                             0.3   \n",
              "std                          0.1                             0.0   \n",
              "min                          0.0                             0.0   \n",
              "25%                          0.4                             0.3   \n",
              "50%                          0.6                             0.3   \n",
              "75%                          0.6                             0.3   \n",
              "max                          1.0                             1.0   \n",
              "\n",
              "       primary_close_flag  final_close_flag  \n",
              "count           1106674.0         1106674.0  \n",
              "mean                  0.1               0.2  \n",
              "std                   0.3               0.4  \n",
              "min                   0.0               0.0  \n",
              "25%                   0.0               0.0  \n",
              "50%                   0.0               0.0  \n",
              "75%                   0.0               0.0  \n",
              "max                   1.0               1.0  \n",
              "\n",
              "[8 rows x 59 columns]"
            ]
          },
          "execution_count": 25,
          "metadata": {},
          "output_type": "execute_result"
        }
      ],
      "source": [
        "training_df.describe()"
      ]
    },
    {
      "cell_type": "markdown",
      "metadata": {
        "id": "JByqP4uwCLXz"
      },
      "source": [
        "**Predicting Outliers in the dataset**"
      ]
    },
    {
      "cell_type": "code",
      "execution_count": null,
      "metadata": {
        "colab": {
          "base_uri": "https://localhost:8080/"
        },
        "id": "Ky2v9Z3FCKsl",
        "outputId": "5946bcc1-8510-42c6-a28f-0c7073740d94"
      },
      "outputs": [
        {
          "output_type": "stream",
          "name": "stdout",
          "text": [
            "(774671, 57) (774671, 2)\n"
          ]
        }
      ],
      "source": [
        "# summarize the shape of the before removing outliers\n",
        "print(x_train.shape, y_train.shape)"
      ]
    },
    {
      "cell_type": "markdown",
      "metadata": {
        "id": "OJYnLWOIArDt"
      },
      "source": []
    },
    {
      "cell_type": "code",
      "execution_count": null,
      "metadata": {
        "id": "6nvxfdTegJ5z"
      },
      "outputs": [],
      "source": [
        "#hist_plt = training_df.hist(figsize = (50,40),bins = 50)"
      ]
    },
    {
      "cell_type": "code",
      "execution_count": null,
      "metadata": {
        "id": "wlq4H0Xtg680"
      },
      "outputs": [],
      "source": [
        "from pandas import read_csv\n",
        "from sklearn.model_selection import train_test_split\n",
        "from sklearn.ensemble import IsolationForest\n"
      ]
    },
    {
      "cell_type": "code",
      "execution_count": null,
      "metadata": {
        "id": "tQpj0xddFu9Q"
      },
      "outputs": [],
      "source": [
        "iso = IsolationForest(contamination=0.1)\n",
        "yhat = iso.fit_predict(x_train)"
      ]
    },
    {
      "cell_type": "code",
      "execution_count": null,
      "metadata": {
        "id": "oMQVCCW6FzZB"
      },
      "outputs": [],
      "source": [
        "# select all rows that are not outliers\n",
        "mask = yhat != -1"
      ]
    },
    {
      "cell_type": "code",
      "execution_count": null,
      "metadata": {
        "id": "B-jKDJJ5GK1E"
      },
      "outputs": [],
      "source": [
        "x_train = x_train[mask]"
      ]
    },
    {
      "cell_type": "code",
      "execution_count": null,
      "metadata": {
        "id": "ZLLAaITEGUa5"
      },
      "outputs": [],
      "source": [
        "y_train = y_train[mask]"
      ]
    },
    {
      "cell_type": "code",
      "execution_count": null,
      "metadata": {
        "colab": {
          "base_uri": "https://localhost:8080/"
        },
        "id": "6U6HUBbLGXy7",
        "outputId": "ce6d4e13-ad1a-4dfe-a9e7-da9f064a42e0"
      },
      "outputs": [
        {
          "output_type": "stream",
          "name": "stdout",
          "text": [
            "(697219, 57) (697219, 2)\n"
          ]
        }
      ],
      "source": [
        "# summarize the shape after removal of outliers\n",
        "print(x_train.shape, y_train.shape)"
      ]
    },
    {
      "cell_type": "markdown",
      "metadata": {
        "id": "78eNvOISSYyb"
      },
      "source": [
        "**Understanding the importance of features and Feature Selection**"
      ]
    },
    {
      "cell_type": "code",
      "execution_count": null,
      "metadata": {
        "id": "66DeECkfGbgx"
      },
      "outputs": [],
      "source": [
        "from sklearn.ensemble import ExtraTreesClassifier\n",
        "import matplotlib.pyplot as plt\n",
        "model=ExtraTreesClassifier()\n",
        "model.fit(x_train,y_train)"
      ]
    },
    {
      "cell_type": "code",
      "execution_count": null,
      "metadata": {
        "colab": {
          "base_uri": "https://localhost:8080/"
        },
        "id": "ms-r0XxqSkmo",
        "outputId": "be460e7e-1946-4978-fe50-9bc7710fa4b2"
      },
      "outputs": [
        {
          "name": "stdout",
          "output_type": "stream",
          "text": [
            "[1.15040887e-02 1.10707572e-02 2.51506386e-02 1.27440353e-01\n",
            " 1.55684229e-01 1.58824760e-01 1.38873540e-01 7.47756612e-03\n",
            " 1.91615265e-02 1.33291291e-02 2.87521228e-03 1.91933975e-02\n",
            " 2.85495430e-05 1.69311567e-04 2.89285083e-08 0.00000000e+00\n",
            " 9.61807807e-06 6.92604807e-03 7.04834717e-03 3.50693273e-04\n",
            " 1.55434559e-04 3.11997150e-04 1.90954951e-02 2.04504734e-03\n",
            " 3.36957855e-03 7.58382009e-02 2.59712766e-03 9.71700814e-03\n",
            " 8.68138427e-03 3.82101316e-03 3.67382220e-03 2.93350910e-03\n",
            " 2.60355936e-03 1.78174323e-03 1.60750470e-03 1.64861547e-03\n",
            " 1.83699282e-03 1.35784148e-03 1.49592579e-03 2.00378644e-03\n",
            " 1.76562307e-03 2.00232017e-03 2.98441386e-03 1.05481904e-03\n",
            " 1.32782182e-03 1.41888034e-03 2.41135318e-03 1.73219789e-03\n",
            " 2.19941019e-03 1.07528106e-03 1.94032614e-03 3.30982708e-03\n",
            " 9.57588985e-03 6.22585520e-04 6.30099997e-02 5.17591739e-02\n",
            " 1.16694237e-04]\n"
          ]
        }
      ],
      "source": [
        "print(model.feature_importances_)"
      ]
    },
    {
      "cell_type": "code",
      "execution_count": null,
      "metadata": {
        "colab": {
          "base_uri": "https://localhost:8080/",
          "height": 648
        },
        "id": "se3Ipz7YVgit",
        "outputId": "0edfa03a-72dc-4454-8ef9-007ba87ef40b"
      },
      "outputs": [
        {
          "data": {
            "image/png": "[encoded data removed]",
            "text/plain": [
              "<Figure size 1500x1000 with 1 Axes>"
            ]
          },
          "metadata": {},
          "output_type": "display_data"
        }
      ],
      "source": [
        "plt.figure(figsize = [15,10])\n",
        "ranked_features=pd.Series(model.feature_importances_,index=x_train.columns)\n",
        "ranked_features.nlargest(20).plot(kind='barh')\n",
        "plt.show()"
      ]
    },
    {
      "cell_type": "code",
      "execution_count": null,
      "metadata": {
        "colab": {
          "base_uri": "https://localhost:8080/"
        },
        "id": "yvm2H2R-Wuf6",
        "outputId": "1c6a0dda-897c-443d-d27f-870f6897db8f"
      },
      "outputs": [
        {
          "data": {
            "text/plain": [
              "days_till_primary_close             0.2\n",
              "final_term                          0.2\n",
              "days_till_final_close               0.1\n",
              "primary_term                        0.1\n",
              "is_zero_utilization                 0.1\n",
              "                                     ..\n",
              "encoded_payment_24                  0.0\n",
              "encoded_payment_0                   0.0\n",
              "loans_credit_limit                  0.0\n",
              "is_zero_loans_within_5_to_30_days   0.0\n",
              "is_zero_loans_within_5_days         0.0\n",
              "Length: 20, dtype: float64"
            ]
          },
          "execution_count": 46,
          "metadata": {},
          "output_type": "execute_result"
        }
      ],
      "source": [
        "ranked_features.nlargest(20, keep='all')"
      ]
    },
    {
      "cell_type": "code",
      "execution_count": null,
      "metadata": {
        "colab": {
          "base_uri": "https://localhost:8080/",
          "height": 443
        },
        "id": "JX8DBCiQZPID",
        "outputId": "3e8f91e0-15f1-430d-dfa6-f3e76622acb2"
      },
      "outputs": [
        {
          "data": {
            "application/vnd.google.colaboratory.intrinsic+json": {
              "type": "dataframe"
            },
            "text/html": [
              "\n",
              "  <div id=\"df-c95f623a-94e4-4244-b822-72d618e52031\" class=\"colab-df-container\">\n",
              "    <div>\n",
              "<style scoped>\n",
              "    .dataframe tbody tr th:only-of-type {\n",
              "        vertical-align: middle;\n",
              "    }\n",
              "\n",
              "    .dataframe tbody tr th {\n",
              "        vertical-align: top;\n",
              "    }\n",
              "\n",
              "    .dataframe thead th {\n",
              "        text-align: right;\n",
              "    }\n",
              "</style>\n",
              "<table border=\"1\" class=\"dataframe\">\n",
              "  <thead>\n",
              "    <tr style=\"text-align: right;\">\n",
              "      <th></th>\n",
              "      <th>record_number</th>\n",
              "      <th>days_since_opened</th>\n",
              "      <th>days_since_confirmed</th>\n",
              "      <th>primary_term</th>\n",
              "      <th>final_term</th>\n",
              "      <th>days_till_primary_close</th>\n",
              "      <th>days_till_final_close</th>\n",
              "      <th>loans_credit_limit</th>\n",
              "      <th>loans_next_payment_summary</th>\n",
              "      <th>loans_outstanding_balance</th>\n",
              "      <th>...</th>\n",
              "      <th>encoded_payment_19</th>\n",
              "      <th>encoded_payment_20</th>\n",
              "      <th>encoded_payment_21</th>\n",
              "      <th>encoded_payment_22</th>\n",
              "      <th>encoded_payment_23</th>\n",
              "      <th>encoded_payment_24</th>\n",
              "      <th>encoded_loans_account_holder_type</th>\n",
              "      <th>encoded_loans_credit_status</th>\n",
              "      <th>encoded_loans_credit_type</th>\n",
              "      <th>encoded_loans_account_currency</th>\n",
              "    </tr>\n",
              "  </thead>\n",
              "  <tbody>\n",
              "    <tr>\n",
              "      <th>record_number</th>\n",
              "      <td>1.0</td>\n",
              "      <td>-0.1</td>\n",
              "      <td>-0.0</td>\n",
              "      <td>-0.1</td>\n",
              "      <td>-0.0</td>\n",
              "      <td>0.0</td>\n",
              "      <td>0.2</td>\n",
              "      <td>-0.0</td>\n",
              "      <td>0.0</td>\n",
              "      <td>-0.0</td>\n",
              "      <td>...</td>\n",
              "      <td>0.1</td>\n",
              "      <td>0.2</td>\n",
              "      <td>0.2</td>\n",
              "      <td>0.2</td>\n",
              "      <td>0.2</td>\n",
              "      <td>0.1</td>\n",
              "      <td>-0.0</td>\n",
              "      <td>-0.4</td>\n",
              "      <td>0.1</td>\n",
              "      <td>-0.0</td>\n",
              "    </tr>\n",
              "    <tr>\n",
              "      <th>days_since_opened</th>\n",
              "      <td>-0.1</td>\n",
              "      <td>1.0</td>\n",
              "      <td>-0.0</td>\n",
              "      <td>0.0</td>\n",
              "      <td>0.0</td>\n",
              "      <td>-0.1</td>\n",
              "      <td>-0.0</td>\n",
              "      <td>0.0</td>\n",
              "      <td>0.0</td>\n",
              "      <td>-0.0</td>\n",
              "      <td>...</td>\n",
              "      <td>-0.0</td>\n",
              "      <td>-0.0</td>\n",
              "      <td>-0.0</td>\n",
              "      <td>-0.0</td>\n",
              "      <td>-0.0</td>\n",
              "      <td>-0.0</td>\n",
              "      <td>0.0</td>\n",
              "      <td>0.0</td>\n",
              "      <td>0.0</td>\n",
              "      <td>0.0</td>\n",
              "    </tr>\n",
              "    <tr>\n",
              "      <th>days_since_confirmed</th>\n",
              "      <td>-0.0</td>\n",
              "      <td>-0.0</td>\n",
              "      <td>1.0</td>\n",
              "      <td>0.0</td>\n",
              "      <td>0.0</td>\n",
              "      <td>0.1</td>\n",
              "      <td>-0.1</td>\n",
              "      <td>0.0</td>\n",
              "      <td>-0.0</td>\n",
              "      <td>0.0</td>\n",
              "      <td>...</td>\n",
              "      <td>-0.0</td>\n",
              "      <td>-0.0</td>\n",
              "      <td>-0.0</td>\n",
              "      <td>-0.0</td>\n",
              "      <td>-0.0</td>\n",
              "      <td>-0.0</td>\n",
              "      <td>-0.0</td>\n",
              "      <td>0.0</td>\n",
              "      <td>-0.0</td>\n",
              "      <td>-0.0</td>\n",
              "    </tr>\n",
              "    <tr>\n",
              "      <th>primary_term</th>\n",
              "      <td>-0.1</td>\n",
              "      <td>0.0</td>\n",
              "      <td>0.0</td>\n",
              "      <td>1.0</td>\n",
              "      <td>0.1</td>\n",
              "      <td>0.2</td>\n",
              "      <td>-0.1</td>\n",
              "      <td>-0.0</td>\n",
              "      <td>-0.0</td>\n",
              "      <td>-0.0</td>\n",
              "      <td>...</td>\n",
              "      <td>0.1</td>\n",
              "      <td>0.1</td>\n",
              "      <td>0.1</td>\n",
              "      <td>0.1</td>\n",
              "      <td>0.1</td>\n",
              "      <td>0.0</td>\n",
              "      <td>-0.0</td>\n",
              "      <td>0.1</td>\n",
              "      <td>0.1</td>\n",
              "      <td>0.0</td>\n",
              "    </tr>\n",
              "    <tr>\n",
              "      <th>final_term</th>\n",
              "      <td>-0.0</td>\n",
              "      <td>0.0</td>\n",
              "      <td>0.0</td>\n",
              "      <td>0.1</td>\n",
              "      <td>1.0</td>\n",
              "      <td>0.1</td>\n",
              "      <td>0.0</td>\n",
              "      <td>-0.0</td>\n",
              "      <td>-0.0</td>\n",
              "      <td>0.0</td>\n",
              "      <td>...</td>\n",
              "      <td>-0.2</td>\n",
              "      <td>-0.2</td>\n",
              "      <td>-0.2</td>\n",
              "      <td>-0.2</td>\n",
              "      <td>-0.2</td>\n",
              "      <td>-0.1</td>\n",
              "      <td>0.0</td>\n",
              "      <td>-0.0</td>\n",
              "      <td>-0.0</td>\n",
              "      <td>0.0</td>\n",
              "    </tr>\n",
              "    <tr>\n",
              "      <th>...</th>\n",
              "      <td>...</td>\n",
              "      <td>...</td>\n",
              "      <td>...</td>\n",
              "      <td>...</td>\n",
              "      <td>...</td>\n",
              "      <td>...</td>\n",
              "      <td>...</td>\n",
              "      <td>...</td>\n",
              "      <td>...</td>\n",
              "      <td>...</td>\n",
              "      <td>...</td>\n",
              "      <td>...</td>\n",
              "      <td>...</td>\n",
              "      <td>...</td>\n",
              "      <td>...</td>\n",
              "      <td>...</td>\n",
              "      <td>...</td>\n",
              "      <td>...</td>\n",
              "      <td>...</td>\n",
              "      <td>...</td>\n",
              "      <td>...</td>\n",
              "    </tr>\n",
              "    <tr>\n",
              "      <th>encoded_payment_24</th>\n",
              "      <td>0.1</td>\n",
              "      <td>-0.0</td>\n",
              "      <td>-0.0</td>\n",
              "      <td>0.0</td>\n",
              "      <td>-0.1</td>\n",
              "      <td>-0.0</td>\n",
              "      <td>-0.0</td>\n",
              "      <td>0.0</td>\n",
              "      <td>0.1</td>\n",
              "      <td>-0.0</td>\n",
              "      <td>...</td>\n",
              "      <td>0.7</td>\n",
              "      <td>0.7</td>\n",
              "      <td>0.8</td>\n",
              "      <td>0.8</td>\n",
              "      <td>0.8</td>\n",
              "      <td>1.0</td>\n",
              "      <td>-0.0</td>\n",
              "      <td>0.1</td>\n",
              "      <td>0.2</td>\n",
              "      <td>-0.0</td>\n",
              "    </tr>\n",
              "    <tr>\n",
              "      <th>encoded_loans_account_holder_type</th>\n",
              "      <td>-0.0</td>\n",
              "      <td>0.0</td>\n",
              "      <td>-0.0</td>\n",
              "      <td>-0.0</td>\n",
              "      <td>0.0</td>\n",
              "      <td>-0.0</td>\n",
              "      <td>-0.0</td>\n",
              "      <td>-0.1</td>\n",
              "      <td>0.0</td>\n",
              "      <td>-0.1</td>\n",
              "      <td>...</td>\n",
              "      <td>-0.0</td>\n",
              "      <td>-0.0</td>\n",
              "      <td>-0.0</td>\n",
              "      <td>-0.0</td>\n",
              "      <td>-0.0</td>\n",
              "      <td>-0.0</td>\n",
              "      <td>1.0</td>\n",
              "      <td>-0.0</td>\n",
              "      <td>-0.2</td>\n",
              "      <td>0.0</td>\n",
              "    </tr>\n",
              "    <tr>\n",
              "      <th>encoded_loans_credit_status</th>\n",
              "      <td>-0.4</td>\n",
              "      <td>0.0</td>\n",
              "      <td>0.0</td>\n",
              "      <td>0.1</td>\n",
              "      <td>-0.0</td>\n",
              "      <td>0.1</td>\n",
              "      <td>-0.2</td>\n",
              "      <td>0.0</td>\n",
              "      <td>-0.1</td>\n",
              "      <td>0.0</td>\n",
              "      <td>...</td>\n",
              "      <td>0.1</td>\n",
              "      <td>0.1</td>\n",
              "      <td>0.1</td>\n",
              "      <td>0.1</td>\n",
              "      <td>0.1</td>\n",
              "      <td>0.1</td>\n",
              "      <td>-0.0</td>\n",
              "      <td>1.0</td>\n",
              "      <td>0.2</td>\n",
              "      <td>0.0</td>\n",
              "    </tr>\n",
              "    <tr>\n",
              "      <th>encoded_loans_credit_type</th>\n",
              "      <td>0.1</td>\n",
              "      <td>0.0</td>\n",
              "      <td>-0.0</td>\n",
              "      <td>0.1</td>\n",
              "      <td>-0.0</td>\n",
              "      <td>0.2</td>\n",
              "      <td>-0.0</td>\n",
              "      <td>0.1</td>\n",
              "      <td>-0.0</td>\n",
              "      <td>0.1</td>\n",
              "      <td>...</td>\n",
              "      <td>0.2</td>\n",
              "      <td>0.2</td>\n",
              "      <td>0.2</td>\n",
              "      <td>0.2</td>\n",
              "      <td>0.2</td>\n",
              "      <td>0.2</td>\n",
              "      <td>-0.2</td>\n",
              "      <td>0.2</td>\n",
              "      <td>1.0</td>\n",
              "      <td>-0.0</td>\n",
              "    </tr>\n",
              "    <tr>\n",
              "      <th>encoded_loans_account_currency</th>\n",
              "      <td>-0.0</td>\n",
              "      <td>0.0</td>\n",
              "      <td>-0.0</td>\n",
              "      <td>0.0</td>\n",
              "      <td>0.0</td>\n",
              "      <td>-0.0</td>\n",
              "      <td>-0.0</td>\n",
              "      <td>-0.0</td>\n",
              "      <td>-0.0</td>\n",
              "      <td>-0.0</td>\n",
              "      <td>...</td>\n",
              "      <td>-0.0</td>\n",
              "      <td>-0.0</td>\n",
              "      <td>-0.0</td>\n",
              "      <td>-0.0</td>\n",
              "      <td>-0.0</td>\n",
              "      <td>-0.0</td>\n",
              "      <td>0.0</td>\n",
              "      <td>0.0</td>\n",
              "      <td>-0.0</td>\n",
              "      <td>1.0</td>\n",
              "    </tr>\n",
              "  </tbody>\n",
              "</table>\n",
              "<p>57 rows × 57 columns</p>\n",
              "</div>\n",
              "    <div class=\"colab-df-buttons\">\n",
              "\n",
              "  <div class=\"colab-df-container\">\n",
              "    <button class=\"colab-df-convert\" onclick=\"convertToInteractive('df-c95f623a-94e4-4244-b822-72d618e52031')\"\n",
              "            title=\"Convert this dataframe to an interactive table.\"\n",
              "            style=\"display:none;\">\n",
              "\n",
              "  <svg xmlns=\"http://www.w3.org/2000/svg\" height=\"24px\" viewBox=\"0 -960 960 960\">\n",
              "    <path d=\"M120-120v-720h720v720H120Zm60-500h600v-160H180v160Zm220 220h160v-160H400v160Zm0 220h160v-160H400v160ZM180-400h160v-160H180v160Zm440 0h160v-160H620v160ZM180-180h160v-160H180v160Zm440 0h160v-160H620v160Z\"/>\n",
              "  </svg>\n",
              "    </button>\n",
              "\n",
              "  <style>\n",
              "    .colab-df-container {\n",
              "      display:flex;\n",
              "      gap: 12px;\n",
              "    }\n",
              "\n",
              "    .colab-df-convert {\n",
              "      background-color: #E8F0FE;\n",
              "      border: none;\n",
              "      border-radius: 50%;\n",
              "      cursor: pointer;\n",
              "      display: none;\n",
              "      fill: #1967D2;\n",
              "      height: 32px;\n",
              "      padding: 0 0 0 0;\n",
              "      width: 32px;\n",
              "    }\n",
              "\n",
              "    .colab-df-convert:hover {\n",
              "      background-color: #E2EBFA;\n",
              "      box-shadow: 0px 1px 2px rgba(60, 64, 67, 0.3), 0px 1px 3px 1px rgba(60, 64, 67, 0.15);\n",
              "      fill: #174EA6;\n",
              "    }\n",
              "\n",
              "    .colab-df-buttons div {\n",
              "      margin-bottom: 4px;\n",
              "    }\n",
              "\n",
              "    [theme=dark] .colab-df-convert {\n",
              "      background-color: #3B4455;\n",
              "      fill: #D2E3FC;\n",
              "    }\n",
              "\n",
              "    [theme=dark] .colab-df-convert:hover {\n",
              "      background-color: #434B5C;\n",
              "      box-shadow: 0px 1px 3px 1px rgba(0, 0, 0, 0.15);\n",
              "      filter: drop-shadow(0px 1px 2px rgba(0, 0, 0, 0.3));\n",
              "      fill: #FFFFFF;\n",
              "    }\n",
              "  </style>\n",
              "\n",
              "    <script>\n",
              "      const buttonEl =\n",
              "        document.querySelector('#df-c95f623a-94e4-4244-b822-72d618e52031 button.colab-df-convert');\n",
              "      buttonEl.style.display =\n",
              "        google.colab.kernel.accessAllowed ? 'block' : 'none';\n",
              "\n",
              "      async function convertToInteractive(key) {\n",
              "        const element = document.querySelector('#df-c95f623a-94e4-4244-b822-72d618e52031');\n",
              "        const dataTable =\n",
              "          await google.colab.kernel.invokeFunction('convertToInteractive',\n",
              "                                                    [key], {});\n",
              "        if (!dataTable) return;\n",
              "\n",
              "        const docLinkHtml = 'Like what you see? Visit the ' +\n",
              "          '<a target=\"_blank\" href=https://colab.research.google.com/notebooks/data_table.ipynb>data table notebook</a>'\n",
              "          + ' to learn more about interactive tables.';\n",
              "        element.innerHTML = '';\n",
              "        dataTable['output_type'] = 'display_data';\n",
              "        await google.colab.output.renderOutput(dataTable, element);\n",
              "        const docLink = document.createElement('div');\n",
              "        docLink.innerHTML = docLinkHtml;\n",
              "        element.appendChild(docLink);\n",
              "      }\n",
              "    </script>\n",
              "  </div>\n",
              "\n",
              "\n",
              "<div id=\"df-b1417fa6-126e-49b1-8fe1-ab0e04fbe649\">\n",
              "  <button class=\"colab-df-quickchart\" onclick=\"quickchart('df-b1417fa6-126e-49b1-8fe1-ab0e04fbe649')\"\n",
              "            title=\"Suggest charts\"\n",
              "            style=\"display:none;\">\n",
              "\n",
              "<svg xmlns=\"http://www.w3.org/2000/svg\" height=\"24px\"viewBox=\"0 0 24 24\"\n",
              "     width=\"24px\">\n",
              "    <g>\n",
              "        <path d=\"M19 3H5c-1.1 0-2 .9-2 2v14c0 1.1.9 2 2 2h14c1.1 0 2-.9 2-2V5c0-1.1-.9-2-2-2zM9 17H7v-7h2v7zm4 0h-2V7h2v10zm4 0h-2v-4h2v4z\"/>\n",
              "    </g>\n",
              "</svg>\n",
              "  </button>\n",
              "\n",
              "<style>\n",
              "  .colab-df-quickchart {\n",
              "      --bg-color: #E8F0FE;\n",
              "      --fill-color: #1967D2;\n",
              "      --hover-bg-color: #E2EBFA;\n",
              "      --hover-fill-color: #174EA6;\n",
              "      --disabled-fill-color: #AAA;\n",
              "      --disabled-bg-color: #DDD;\n",
              "  }\n",
              "\n",
              "  [theme=dark] .colab-df-quickchart {\n",
              "      --bg-color: #3B4455;\n",
              "      --fill-color: #D2E3FC;\n",
              "      --hover-bg-color: #434B5C;\n",
              "      --hover-fill-color: #FFFFFF;\n",
              "      --disabled-bg-color: #3B4455;\n",
              "      --disabled-fill-color: #666;\n",
              "  }\n",
              "\n",
              "  .colab-df-quickchart {\n",
              "    background-color: var(--bg-color);\n",
              "    border: none;\n",
              "    border-radius: 50%;\n",
              "    cursor: pointer;\n",
              "    display: none;\n",
              "    fill: var(--fill-color);\n",
              "    height: 32px;\n",
              "    padding: 0;\n",
              "    width: 32px;\n",
              "  }\n",
              "\n",
              "  .colab-df-quickchart:hover {\n",
              "    background-color: var(--hover-bg-color);\n",
              "    box-shadow: 0 1px 2px rgba(60, 64, 67, 0.3), 0 1px 3px 1px rgba(60, 64, 67, 0.15);\n",
              "    fill: var(--button-hover-fill-color);\n",
              "  }\n",
              "\n",
              "  .colab-df-quickchart-complete:disabled,\n",
              "  .colab-df-quickchart-complete:disabled:hover {\n",
              "    background-color: var(--disabled-bg-color);\n",
              "    fill: var(--disabled-fill-color);\n",
              "    box-shadow: none;\n",
              "  }\n",
              "\n",
              "  .colab-df-spinner {\n",
              "    border: 2px solid var(--fill-color);\n",
              "    border-color: transparent;\n",
              "    border-bottom-color: var(--fill-color);\n",
              "    animation:\n",
              "      spin 1s steps(1) infinite;\n",
              "  }\n",
              "\n",
              "  @keyframes spin {\n",
              "    0% {\n",
              "      border-color: transparent;\n",
              "      border-bottom-color: var(--fill-color);\n",
              "      border-left-color: var(--fill-color);\n",
              "    }\n",
              "    20% {\n",
              "      border-color: transparent;\n",
              "      border-left-color: var(--fill-color);\n",
              "      border-top-color: var(--fill-color);\n",
              "    }\n",
              "    30% {\n",
              "      border-color: transparent;\n",
              "      border-left-color: var(--fill-color);\n",
              "      border-top-color: var(--fill-color);\n",
              "      border-right-color: var(--fill-color);\n",
              "    }\n",
              "    40% {\n",
              "      border-color: transparent;\n",
              "      border-right-color: var(--fill-color);\n",
              "      border-top-color: var(--fill-color);\n",
              "    }\n",
              "    60% {\n",
              "      border-color: transparent;\n",
              "      border-right-color: var(--fill-color);\n",
              "    }\n",
              "    80% {\n",
              "      border-color: transparent;\n",
              "      border-right-color: var(--fill-color);\n",
              "      border-bottom-color: var(--fill-color);\n",
              "    }\n",
              "    90% {\n",
              "      border-color: transparent;\n",
              "      border-bottom-color: var(--fill-color);\n",
              "    }\n",
              "  }\n",
              "</style>\n",
              "\n",
              "  <script>\n",
              "    async function quickchart(key) {\n",
              "      const quickchartButtonEl =\n",
              "        document.querySelector('#' + key + ' button');\n",
              "      quickchartButtonEl.disabled = true;  // To prevent multiple clicks.\n",
              "      quickchartButtonEl.classList.add('colab-df-spinner');\n",
              "      try {\n",
              "        const charts = await google.colab.kernel.invokeFunction(\n",
              "            'suggestCharts', [key], {});\n",
              "      } catch (error) {\n",
              "        console.error('Error during call to suggestCharts:', error);\n",
              "      }\n",
              "      quickchartButtonEl.classList.remove('colab-df-spinner');\n",
              "      quickchartButtonEl.classList.add('colab-df-quickchart-complete');\n",
              "    }\n",
              "    (() => {\n",
              "      let quickchartButtonEl =\n",
              "        document.querySelector('#df-b1417fa6-126e-49b1-8fe1-ab0e04fbe649 button');\n",
              "      quickchartButtonEl.style.display =\n",
              "        google.colab.kernel.accessAllowed ? 'block' : 'none';\n",
              "    })();\n",
              "  </script>\n",
              "</div>\n",
              "\n",
              "    </div>\n",
              "  </div>\n"
            ],
            "text/plain": [
              "                                   record_number  days_since_opened  \\\n",
              "record_number                                1.0               -0.1   \n",
              "days_since_opened                           -0.1                1.0   \n",
              "days_since_confirmed                        -0.0               -0.0   \n",
              "primary_term                                -0.1                0.0   \n",
              "final_term                                  -0.0                0.0   \n",
              "...                                          ...                ...   \n",
              "encoded_payment_24                           0.1               -0.0   \n",
              "encoded_loans_account_holder_type           -0.0                0.0   \n",
              "encoded_loans_credit_status                 -0.4                0.0   \n",
              "encoded_loans_credit_type                    0.1                0.0   \n",
              "encoded_loans_account_currency              -0.0                0.0   \n",
              "\n",
              "                                   days_since_confirmed  primary_term  \\\n",
              "record_number                                      -0.0          -0.1   \n",
              "days_since_opened                                  -0.0           0.0   \n",
              "days_since_confirmed                                1.0           0.0   \n",
              "primary_term                                        0.0           1.0   \n",
              "final_term                                          0.0           0.1   \n",
              "...                                                 ...           ...   \n",
              "encoded_payment_24                                 -0.0           0.0   \n",
              "encoded_loans_account_holder_type                  -0.0          -0.0   \n",
              "encoded_loans_credit_status                         0.0           0.1   \n",
              "encoded_loans_credit_type                          -0.0           0.1   \n",
              "encoded_loans_account_currency                     -0.0           0.0   \n",
              "\n",
              "                                   final_term  days_till_primary_close  \\\n",
              "record_number                            -0.0                      0.0   \n",
              "days_since_opened                         0.0                     -0.1   \n",
              "days_since_confirmed                      0.0                      0.1   \n",
              "primary_term                              0.1                      0.2   \n",
              "final_term                                1.0                      0.1   \n",
              "...                                       ...                      ...   \n",
              "encoded_payment_24                       -0.1                     -0.0   \n",
              "encoded_loans_account_holder_type         0.0                     -0.0   \n",
              "encoded_loans_credit_status              -0.0                      0.1   \n",
              "encoded_loans_credit_type                -0.0                      0.2   \n",
              "encoded_loans_account_currency            0.0                     -0.0   \n",
              "\n",
              "                                   days_till_final_close  loans_credit_limit  \\\n",
              "record_number                                        0.2                -0.0   \n",
              "days_since_opened                                   -0.0                 0.0   \n",
              "days_since_confirmed                                -0.1                 0.0   \n",
              "primary_term                                        -0.1                -0.0   \n",
              "final_term                                           0.0                -0.0   \n",
              "...                                                  ...                 ...   \n",
              "encoded_payment_24                                  -0.0                 0.0   \n",
              "encoded_loans_account_holder_type                   -0.0                -0.1   \n",
              "encoded_loans_credit_status                         -0.2                 0.0   \n",
              "encoded_loans_credit_type                           -0.0                 0.1   \n",
              "encoded_loans_account_currency                      -0.0                -0.0   \n",
              "\n",
              "                                   loans_next_payment_summary  \\\n",
              "record_number                                             0.0   \n",
              "days_since_opened                                         0.0   \n",
              "days_since_confirmed                                     -0.0   \n",
              "primary_term                                             -0.0   \n",
              "final_term                                               -0.0   \n",
              "...                                                       ...   \n",
              "encoded_payment_24                                        0.1   \n",
              "encoded_loans_account_holder_type                         0.0   \n",
              "encoded_loans_credit_status                              -0.1   \n",
              "encoded_loans_credit_type                                -0.0   \n",
              "encoded_loans_account_currency                           -0.0   \n",
              "\n",
              "                                   loans_outstanding_balance  ...  \\\n",
              "record_number                                           -0.0  ...   \n",
              "days_since_opened                                       -0.0  ...   \n",
              "days_since_confirmed                                     0.0  ...   \n",
              "primary_term                                            -0.0  ...   \n",
              "final_term                                               0.0  ...   \n",
              "...                                                      ...  ...   \n",
              "encoded_payment_24                                      -0.0  ...   \n",
              "encoded_loans_account_holder_type                       -0.1  ...   \n",
              "encoded_loans_credit_status                              0.0  ...   \n",
              "encoded_loans_credit_type                                0.1  ...   \n",
              "encoded_loans_account_currency                          -0.0  ...   \n",
              "\n",
              "                                   encoded_payment_19  encoded_payment_20  \\\n",
              "record_number                                     0.1                 0.2   \n",
              "days_since_opened                                -0.0                -0.0   \n",
              "days_since_confirmed                             -0.0                -0.0   \n",
              "primary_term                                      0.1                 0.1   \n",
              "final_term                                       -0.2                -0.2   \n",
              "...                                               ...                 ...   \n",
              "encoded_payment_24                                0.7                 0.7   \n",
              "encoded_loans_account_holder_type                -0.0                -0.0   \n",
              "encoded_loans_credit_status                       0.1                 0.1   \n",
              "encoded_loans_credit_type                         0.2                 0.2   \n",
              "encoded_loans_account_currency                   -0.0                -0.0   \n",
              "\n",
              "                                   encoded_payment_21  encoded_payment_22  \\\n",
              "record_number                                     0.2                 0.2   \n",
              "days_since_opened                                -0.0                -0.0   \n",
              "days_since_confirmed                             -0.0                -0.0   \n",
              "primary_term                                      0.1                 0.1   \n",
              "final_term                                       -0.2                -0.2   \n",
              "...                                               ...                 ...   \n",
              "encoded_payment_24                                0.8                 0.8   \n",
              "encoded_loans_account_holder_type                -0.0                -0.0   \n",
              "encoded_loans_credit_status                       0.1                 0.1   \n",
              "encoded_loans_credit_type                         0.2                 0.2   \n",
              "encoded_loans_account_currency                   -0.0                -0.0   \n",
              "\n",
              "                                   encoded_payment_23  encoded_payment_24  \\\n",
              "record_number                                     0.2                 0.1   \n",
              "days_since_opened                                -0.0                -0.0   \n",
              "days_since_confirmed                             -0.0                -0.0   \n",
              "primary_term                                      0.1                 0.0   \n",
              "final_term                                       -0.2                -0.1   \n",
              "...                                               ...                 ...   \n",
              "encoded_payment_24                                0.8                 1.0   \n",
              "encoded_loans_account_holder_type                -0.0                -0.0   \n",
              "encoded_loans_credit_status                       0.1                 0.1   \n",
              "encoded_loans_credit_type                         0.2                 0.2   \n",
              "encoded_loans_account_currency                   -0.0                -0.0   \n",
              "\n",
              "                                   encoded_loans_account_holder_type  \\\n",
              "record_number                                                   -0.0   \n",
              "days_since_opened                                                0.0   \n",
              "days_since_confirmed                                            -0.0   \n",
              "primary_term                                                    -0.0   \n",
              "final_term                                                       0.0   \n",
              "...                                                              ...   \n",
              "encoded_payment_24                                              -0.0   \n",
              "encoded_loans_account_holder_type                                1.0   \n",
              "encoded_loans_credit_status                                     -0.0   \n",
              "encoded_loans_credit_type                                       -0.2   \n",
              "encoded_loans_account_currency                                   0.0   \n",
              "\n",
              "                                   encoded_loans_credit_status  \\\n",
              "record_number                                             -0.4   \n",
              "days_since_opened                                          0.0   \n",
              "days_since_confirmed                                       0.0   \n",
              "primary_term                                               0.1   \n",
              "final_term                                                -0.0   \n",
              "...                                                        ...   \n",
              "encoded_payment_24                                         0.1   \n",
              "encoded_loans_account_holder_type                         -0.0   \n",
              "encoded_loans_credit_status                                1.0   \n",
              "encoded_loans_credit_type                                  0.2   \n",
              "encoded_loans_account_currency                             0.0   \n",
              "\n",
              "                                   encoded_loans_credit_type  \\\n",
              "record_number                                            0.1   \n",
              "days_since_opened                                        0.0   \n",
              "days_since_confirmed                                    -0.0   \n",
              "primary_term                                             0.1   \n",
              "final_term                                              -0.0   \n",
              "...                                                      ...   \n",
              "encoded_payment_24                                       0.2   \n",
              "encoded_loans_account_holder_type                       -0.2   \n",
              "encoded_loans_credit_status                              0.2   \n",
              "encoded_loans_credit_type                                1.0   \n",
              "encoded_loans_account_currency                          -0.0   \n",
              "\n",
              "                                   encoded_loans_account_currency  \n",
              "record_number                                                -0.0  \n",
              "days_since_opened                                             0.0  \n",
              "days_since_confirmed                                         -0.0  \n",
              "primary_term                                                  0.0  \n",
              "final_term                                                    0.0  \n",
              "...                                                           ...  \n",
              "encoded_payment_24                                           -0.0  \n",
              "encoded_loans_account_holder_type                             0.0  \n",
              "encoded_loans_credit_status                                   0.0  \n",
              "encoded_loans_credit_type                                    -0.0  \n",
              "encoded_loans_account_currency                                1.0  \n",
              "\n",
              "[57 rows x 57 columns]"
            ]
          },
          "execution_count": 39,
          "metadata": {},
          "output_type": "execute_result"
        }
      ],
      "source": [
        "x_train.corr()"
      ]
    },
    {
      "cell_type": "code",
      "execution_count": null,
      "metadata": {
        "id": "rREM0Ln0eJ_l"
      },
      "outputs": [],
      "source": [
        "import seaborn as sns\n",
        "corr=x_train.corr()\n",
        "top_features=corr.index\n",
        "plt.figure(figsize=(30,15))\n",
        "sns.heatmap(x_train[top_features].corr(),annot=True)\n"
      ]
    },
    {
      "cell_type": "markdown",
      "metadata": {
        "id": "VyxuCjnRmo10"
      },
      "source": [
        "**Creating Pipelines and Training Models**"
      ]
    },
    {
      "cell_type": "code",
      "execution_count": null,
      "metadata": {
        "id": "xLd1p2k1Nl_p"
      },
      "outputs": [],
      "source": [
        "# For Model building and Training\n",
        "from sklearn.metrics import accuracy_score, classification_report,f1_score\n",
        "from sklearn.metrics import multilabel_confusion_matrix\n",
        "from sklearn.tree import DecisionTreeClassifier\n",
        "from sklearn.model_selection import train_test_split\n",
        "from sklearn.ensemble import RandomForestClassifier\n",
        "#from sklearn.linear_model import LogisticRegression\n",
        "\n",
        "from sklearn.model_selection import RandomizedSearchCV\n",
        "from sklearn.neighbors import KNeighborsClassifier"
      ]
    },
    {
      "cell_type": "code",
      "execution_count": null,
      "metadata": {
        "id": "zKss4G9FNJWU"
      },
      "outputs": [],
      "source": [
        "def fit_model(classifier):\n",
        "    class_model = classifier\n",
        "    return class_model.fit(x_train,y_train)"
      ]
    },
    {
      "cell_type": "code",
      "execution_count": null,
      "metadata": {
        "id": "6A2ddn6XNR9p"
      },
      "outputs": [],
      "source": [
        "def predict(class_model,data_set):\n",
        "    return class_model.predict(data_set)"
      ]
    },
    {
      "cell_type": "code",
      "execution_count": null,
      "metadata": {
        "id": "iRGjQALgNXyI"
      },
      "outputs": [],
      "source": [
        "def print_accuracy(pred):\n",
        "    # for classification we use accuracy and F1 score\n",
        "    acc_score = accuracy_score(y_test,pred)\n",
        "    print(\"Accuracy Score : \",acc_score)\n",
        "    f_score = f1_score(y_test,pred,average='weighted')\n",
        "    print(\"F1 Score : \",f_score)\n",
        "    print(\"Multilabel Confusion Matrix:\")\n",
        "    print(multilabel_confusion_matrix(y_test, pred))\n",
        "    print(\"Classification Report:\")\n",
        "    print(classification_report(y_test, pred))"
      ]
    },
    {
      "cell_type": "code",
      "execution_count": null,
      "metadata": {
        "id": "H7ny5ufwY925"
      },
      "outputs": [],
      "source": [
        "def predict_score(classifier_name):\n",
        "    #Calculate Score of Classifier on test data\n",
        "    score = classifier_name.score(x_test, y_test)\n",
        "    print(\"Score on Test Data: \",score)"
      ]
    },
    {
      "cell_type": "code",
      "execution_count": null,
      "metadata": {
        "id": "9Ggb530JZKZn"
      },
      "outputs": [],
      "source": [
        "def train_model(classifier):\n",
        "    print(\"splitting data\")\n",
        "    x,y,x_train, x_test, y_train, y_test = split_data()\n",
        "    print(\"fitting model\")\n",
        "    print(\"y_train\")\n",
        "    print(y_train.info())\n",
        "    classifier_name = fit_model(classifier)\n",
        "    # local()[var_name]\n",
        "    print(\"Predicting x_test\")\n",
        "    predictions = predict(classifier_name,x_test)\n",
        "    print(\"Printing accuracies\")\n",
        "    print_accuracy(predictions)\n",
        "    predict_score(classifier_name)\n",
        "\n",
        "    return classifier_name"
      ]
    },
    {
      "cell_type": "markdown",
      "metadata": {
        "id": "qcFeCrQvORwK"
      },
      "source": [
        "**Decision Tree Classifier**"
      ]
    },
    {
      "cell_type": "code",
      "execution_count": null,
      "metadata": {
        "id": "VIwg0yGnNuGf"
      },
      "outputs": [],
      "source": []
    },
    {
      "cell_type": "code",
      "execution_count": null,
      "metadata": {
        "id": "0KFWvXj0s_rn"
      },
      "outputs": [],
      "source": [
        "from sklearn.datasets import load_iris\n",
        "from sklearn.model_selection import train_test_split\n",
        "from sklearn.preprocessing import StandardScaler\n",
        "from sklearn.decomposition import PCA\n",
        "from sklearn.pipeline import Pipeline\n",
        "from sklearn.linear_model import LogisticRegression\n",
        "from sklearn.tree import DecisionTreeClassifier\n",
        "from sklearn.ensemble import RandomForestClassifier\n",
        "from sklearn.ensemble import GradientBoostingClassifier\n",
        "from xgboost import XGBClassifier"
      ]
    },
    {
      "cell_type": "code",
      "execution_count": null,
      "metadata": {
        "id": "m5wE9TjWZiq3"
      },
      "outputs": [],
      "source": [
        "#Splitting the data for Training\n",
        "label = ['primary_close_flag', 'final_close_flag']\n",
        "x = training_df.drop(columns=label)\n",
        "y = training_df[label]\n",
        "x_train, x_test, y_train, y_test = train_test_split(x, y, test_size=0.3, random_state=30)\n",
        "#test data contains 30% for testing, and random state = 30"
      ]
    },
    {
      "cell_type": "code",
      "execution_count": null,
      "metadata": {
        "colab": {
          "base_uri": "https://localhost:8080/"
        },
        "id": "S0OBPliscyzj",
        "outputId": "497f604b-a201-47ec-87b9-0998c53e5ecc"
      },
      "outputs": [
        {
          "name": "stdout",
          "output_type": "stream",
          "text": [
            "Time Take :  0.1471121033032735 minutes\n"
          ]
        }
      ],
      "source": [
        "#DT_model = make_pipeline(MinMaxScaler(), DecisionTreeClassifier())\n",
        "start_time = time.time()\n",
        "DT_model= DecisionTreeClassifier()\n",
        "DT_model.fit(x_train,y_train)\n",
        "print('Time Take :  %s minutes' % ((time.time() - start_time)/60))"
      ]
    },
    {
      "cell_type": "code",
      "execution_count": null,
      "metadata": {
        "colab": {
          "base_uri": "https://localhost:8080/"
        },
        "id": "MLe-H5UVrmjE",
        "outputId": "d77df6a3-26f6-4c52-b9b1-fc316e4762cb"
      },
      "outputs": [
        {
          "name": "stdout",
          "output_type": "stream",
          "text": [
            "Time Take :  0.0019360065460205078 minutes\n"
          ]
        }
      ],
      "source": [
        "#Evaluating the model\n",
        "# We use the predict() on the model to predict the output\n",
        "start_time = time.time()\n",
        "pred=DT_model.predict(x_test)\n",
        "print('Time Take :  %s minutes' % ((time.time() - start_time)/60))"
      ]
    },
    {
      "cell_type": "code",
      "execution_count": null,
      "metadata": {
        "colab": {
          "base_uri": "https://localhost:8080/"
        },
        "id": "c_Ij52nprq4Q",
        "outputId": "74d57fbe-fd72-4452-eeec-82c4d24d02fe"
      },
      "outputs": [
        {
          "name": "stdout",
          "output_type": "stream",
          "text": [
            "Accuracy Score :  0.9998253027834085\n",
            "F1 Score :  0.9997028811404515\n",
            "Multilabel Confusion Matrix:\n",
            "[[[289231     26]\n",
            "  [    29  42717]]\n",
            "\n",
            " [[268722      6]\n",
            "  [     2  63273]]]\n",
            " \n",
            "Classification Report:\n",
            "              precision    recall  f1-score   support\n",
            "\n",
            "           0       1.00      1.00      1.00     42746\n",
            "           1       1.00      1.00      1.00     63275\n",
            "\n",
            "   micro avg       1.00      1.00      1.00    106021\n",
            "   macro avg       1.00      1.00      1.00    106021\n",
            "weighted avg       1.00      1.00      1.00    106021\n",
            " samples avg       0.24      0.24      0.24    106021\n",
            "\n",
            "Score on Test Data:  0.9998253027834085\n"
          ]
        }
      ],
      "source": [
        "#for classification we use accuracy and F1 score\n",
        "acc_score = accuracy_score(y_test,pred)\n",
        "print(\"Accuracy Score : \",acc_score)\n",
        "\n",
        "# accuracy = accuracy_score(y_test, predictions)\n",
        "# print(\"Accuracy:\", accuracy)\n",
        "# print()\n",
        "\n",
        "f_score = f1_score(y_test,pred,average='weighted')\n",
        "print(\"F1 Score : \",f_score)\n",
        "\n",
        "print(\"Multilabel Confusion Matrix:\")\n",
        "print(multilabel_confusion_matrix(y_test, pred))\n",
        "print(\" \")\n",
        "\n",
        "print(\"Classification Report:\")\n",
        "print(classification_report(y_test, pred))\n",
        "\n",
        "#Calculate Score of Classifier on test data\n",
        "score = DT_model.score(x_test, y_test)\n",
        "print(\"Score on Test Data: \",score)\n"
      ]
    },
    {
      "cell_type": "markdown",
      "metadata": {
        "id": "IvFQRgHysEtT"
      },
      "source": [
        "**2. RandomForestClassifier**"
      ]
    },
    {
      "cell_type": "code",
      "execution_count": null,
      "metadata": {
        "colab": {
          "base_uri": "https://localhost:8080/"
        },
        "id": "Ym6SCRmdsUnY",
        "outputId": "f758f1a0-1a8c-40b7-d9f4-c3a6705c28db"
      },
      "outputs": [
        {
          "name": "stdout",
          "output_type": "stream",
          "text": [
            "splitting data\n",
            "fitting model\n",
            "y_train\n",
            "<class 'pandas.core.frame.DataFrame'>\n",
            "Int64Index: 774671 entries, 314016 to 431909\n",
            "Data columns (total 2 columns):\n",
            " #   Column              Non-Null Count   Dtype\n",
            "---  ------              --------------   -----\n",
            " 0   primary_close_flag  774671 non-null  int64\n",
            " 1   final_close_flag    774671 non-null  int64\n",
            "dtypes: int64(2)\n",
            "memory usage: 17.7 MB\n",
            "None\n",
            "Predicting x_test\n",
            "Printing accuracies\n",
            "Accuracy Score :  0.9998825311819471\n",
            "F1 Score :  0.9998113147244692\n",
            "Multilabel Confusion Matrix:\n",
            "[[[289250      7]\n",
            "  [    29  42717]]\n",
            "\n",
            " [[268725      3]\n",
            "  [     1  63274]]]\n",
            "Classification Report:\n",
            "              precision    recall  f1-score   support\n",
            "\n",
            "           0       1.00      1.00      1.00     42746\n",
            "           1       1.00      1.00      1.00     63275\n",
            "\n",
            "   micro avg       1.00      1.00      1.00    106021\n",
            "   macro avg       1.00      1.00      1.00    106021\n",
            "weighted avg       1.00      1.00      1.00    106021\n",
            " samples avg       0.24      0.24      0.24    106021\n",
            "\n",
            "Score on Test Data:  0.9998825311819471\n"
          ]
        }
      ],
      "source": [
        "RandomForestClassifier = train_model(RandomForestClassifier())"
      ]
    },
    {
      "cell_type": "markdown",
      "metadata": {
        "id": "c0ZfNgJrslOW"
      },
      "source": [
        "**KNN Classifier**"
      ]
    },
    {
      "cell_type": "code",
      "execution_count": null,
      "metadata": {
        "id": "9zqRE57xsdD8"
      },
      "outputs": [],
      "source": [
        "params = {\"n_neighbors\": 5, \"weights\": \"distance\", \"n_jobs\": -1}\n",
        "classifier = KNeighborsClassifier(**params)"
      ]
    },
    {
      "cell_type": "code",
      "execution_count": null,
      "metadata": {
        "colab": {
          "background_save": true,
          "base_uri": "https://localhost:8080/"
        },
        "id": "gKIawrKJsY46",
        "outputId": "a6c182d9-f1d6-4b9e-cca2-793b93055cbf"
      },
      "outputs": [
        {
          "name": "stdout",
          "output_type": "stream",
          "text": [
            "fitting model\n",
            "y_train\n",
            "<class 'pandas.core.frame.DataFrame'>\n",
            "Int64Index: 774671 entries, 314016 to 431909\n",
            "Data columns (total 2 columns):\n",
            " #   Column              Non-Null Count   Dtype\n",
            "---  ------              --------------   -----\n",
            " 0   primary_close_flag  774671 non-null  int64\n",
            " 1   final_close_flag    774671 non-null  int64\n",
            "dtypes: int64(2)\n",
            "memory usage: 17.7 MB\n",
            "None\n",
            "Predicting x_test\n",
            "Printing accuracies\n",
            "Accuracy Score :  0.9328951846820661\n",
            "F1 Score :  0.8846797280157356\n",
            "Multilabel Confusion Matrix:\n",
            "[[[283468   5789]\n",
            "  [  4173  38573]]\n",
            "\n",
            " [[261773   6955]\n",
            "  [  7641  55634]]]\n",
            "Classification Report:\n",
            "              precision    recall  f1-score   support\n",
            "\n",
            "           0       0.87      0.90      0.89     42746\n",
            "           1       0.89      0.88      0.88     63275\n",
            "\n",
            "   micro avg       0.88      0.89      0.88    106021\n",
            "   macro avg       0.88      0.89      0.88    106021\n",
            "weighted avg       0.88      0.89      0.88    106021\n",
            " samples avg       0.21      0.21      0.21    106021\n",
            "\n",
            "Score on Test Data:  0.9328951846820661\n"
          ]
        }
      ],
      "source": [
        "print(\"fitting model\")\n",
        "print(\"y_train\")\n",
        "print(y_train.info())\n",
        "classifier_name = fit_model(classifier)\n",
        "# local()[var_name]\n",
        "print(\"Predicting x_test\")\n",
        "predictions = predict(classifier_name,x_test)\n",
        "print(\"Printing accuracies\")\n",
        "print_accuracy(predictions)\n",
        "predict_score(classifier_name)"
      ]
    },
    {
      "cell_type": "markdown",
      "metadata": {
        "id": "4y0tpvUKtcn6"
      },
      "source": [
        "**Predicting O/P on testing_df for submission.**"
      ]
    },
    {
      "cell_type": "code",
      "execution_count": null,
      "metadata": {
        "id": "LUKxry7BwdCd"
      },
      "outputs": [],
      "source": [
        "def test_predict(model_obj,model_name):\n",
        "    if type(model_name) != str:\n",
        "        return false\n",
        "    print(\"Predicting\")\n",
        "    predictions_sub = model_obj.predict(testing_df)\n",
        "    print(\"DataFrame\")\n",
        "    df_submissions = pd.DataFrame({\n",
        "        'primary_close_flag': predictions_sub[:, 0],\n",
        "        'final_close_flag': predictions_sub[:, 1]\n",
        "    })\n",
        "    print(\"To_CSV\")\n",
        "    df_submissions.to_csv('/content/drive/MyDrive/Colab Notebooks/submit_'+model_name+'.csv', index=False)\n",
        "    print(\"completed\")"
      ]
    },
    {
      "cell_type": "code",
      "execution_count": null,
      "metadata": {
        "id": "-YyxsTxCX-FX"
      },
      "outputs": [],
      "source": []
    },
    {
      "cell_type": "code",
      "execution_count": null,
      "metadata": {
        "id": "jIi74bUZYDIM",
        "colab": {
          "base_uri": "https://localhost:8080/"
        },
        "outputId": "59a34145-45df-4489-83ef-d3008102c4e9"
      },
      "outputs": [
        {
          "output_type": "execute_result",
          "data": {
            "text/plain": [
              "(         record_number  days_since_opened  days_since_confirmed  primary_term  \\\n",
              " 314016             0.0                0.7                   0.8           0.6   \n",
              " 485055             0.2                0.3                   0.6           0.4   \n",
              " 935451             0.3                0.5                   0.1           0.2   \n",
              " 597616             0.0                0.8                   0.2           0.7   \n",
              " 1016969            0.0                0.8                   0.8           0.5   \n",
              " ...                ...                ...                   ...           ...   \n",
              " 222339             0.1                0.7                   0.5           0.1   \n",
              " 882485             0.6                0.6                   0.6           0.8   \n",
              " 328599             0.2                0.9                   0.5           0.5   \n",
              " 570508             0.2                0.0                   0.8           0.4   \n",
              " 431909             0.1                0.0                   0.5           0.5   \n",
              " \n",
              "          final_term  days_till_primary_close  days_till_final_close  \\\n",
              " 314016          0.1                      1.0                    0.2   \n",
              " 485055          0.4                      1.0                    0.8   \n",
              " 935451          0.5                      0.1                    0.7   \n",
              " 597616          0.6                      0.4                    0.9   \n",
              " 1016969         0.3                      0.2                    0.6   \n",
              " ...             ...                      ...                    ...   \n",
              " 222339          0.9                      0.3                    0.7   \n",
              " 882485          0.1                      0.8                    0.7   \n",
              " 328599          0.7                      0.3                    0.7   \n",
              " 570508          0.0                      0.0                    0.3   \n",
              " 431909          0.1                      0.8                    0.2   \n",
              " \n",
              "          loans_credit_limit  loans_next_payment_summary  \\\n",
              " 314016                  0.2                         0.3   \n",
              " 485055                  0.3                         0.3   \n",
              " 935451                  1.0                         0.3   \n",
              " 597616                  0.5                         0.3   \n",
              " 1016969                 0.3                         0.3   \n",
              " ...                     ...                         ...   \n",
              " 222339                  0.5                         0.2   \n",
              " 882485                  1.0                         0.7   \n",
              " 328599                  0.3                         0.2   \n",
              " 570508                  0.4                         0.3   \n",
              " 431909                  0.9                         0.3   \n",
              " \n",
              "          loans_outstanding_balance  ...  encoded_payment_19  \\\n",
              " 314016                         0.5  ...                 1.0   \n",
              " 485055                         0.5  ...                 1.0   \n",
              " 935451                         0.5  ...                 1.0   \n",
              " 597616                         0.5  ...                 0.0   \n",
              " 1016969                        0.5  ...                 1.0   \n",
              " ...                            ...  ...                 ...   \n",
              " 222339                         0.5  ...                 0.0   \n",
              " 882485                         0.8  ...                 1.0   \n",
              " 328599                         0.5  ...                 1.0   \n",
              " 570508                         0.5  ...                 1.0   \n",
              " 431909                         0.5  ...                 1.0   \n",
              " \n",
              "          encoded_payment_20  encoded_payment_21  encoded_payment_22  \\\n",
              " 314016                  1.0                 1.0                 1.0   \n",
              " 485055                  1.0                 1.0                 1.0   \n",
              " 935451                  1.0                 1.0                 1.0   \n",
              " 597616                  0.0                 1.0                 0.0   \n",
              " 1016969                 1.0                 1.0                 1.0   \n",
              " ...                     ...                 ...                 ...   \n",
              " 222339                  0.0                 0.0                 0.0   \n",
              " 882485                  1.0                 1.0                 1.0   \n",
              " 328599                  1.0                 1.0                 1.0   \n",
              " 570508                  1.0                 1.0                 1.0   \n",
              " 431909                  1.0                 1.0                 1.0   \n",
              " \n",
              "          encoded_payment_23  encoded_payment_24  \\\n",
              " 314016                  1.0                 1.0   \n",
              " 485055                  1.0                 1.0   \n",
              " 935451                  1.0                 1.0   \n",
              " 597616                  0.0                 0.0   \n",
              " 1016969                 1.0                 1.0   \n",
              " ...                     ...                 ...   \n",
              " 222339                  0.0                 1.0   \n",
              " 882485                  1.0                 1.0   \n",
              " 328599                  1.0                 1.0   \n",
              " 570508                  1.0                 1.0   \n",
              " 431909                  1.0                 1.0   \n",
              " \n",
              "          encoded_loans_account_holder_type  encoded_loans_credit_status  \\\n",
              " 314016                                 0.2                          0.5   \n",
              " 485055                                 0.2                          0.5   \n",
              " 935451                                 0.2                          0.5   \n",
              " 597616                                 0.2                          0.5   \n",
              " 1016969                                0.2                          0.5   \n",
              " ...                                    ...                          ...   \n",
              " 222339                                 0.2                          0.5   \n",
              " 882485                                 0.2                          0.3   \n",
              " 328599                                 0.2                          0.5   \n",
              " 570508                                 0.2                          0.5   \n",
              " 431909                                 0.2                          0.5   \n",
              " \n",
              "          encoded_loans_credit_type  encoded_loans_account_currency  \n",
              " 314016                         0.4                             0.3  \n",
              " 485055                         0.6                             0.3  \n",
              " 935451                         0.7                             0.3  \n",
              " 597616                         0.6                             0.3  \n",
              " 1016969                        0.6                             0.3  \n",
              " ...                            ...                             ...  \n",
              " 222339                         0.6                             0.3  \n",
              " 882485                         0.7                             0.3  \n",
              " 328599                         1.0                             0.3  \n",
              " 570508                         0.4                             0.3  \n",
              " 431909                         0.6                             0.3  \n",
              " \n",
              " [697219 rows x 57 columns],\n",
              "          primary_close_flag  final_close_flag\n",
              " 314016                    0                 0\n",
              " 485055                    0                 0\n",
              " 935451                    0                 1\n",
              " 597616                    0                 0\n",
              " 1016969                   0                 0\n",
              " ...                     ...               ...\n",
              " 222339                    0                 0\n",
              " 882485                    0                 0\n",
              " 328599                    0                 0\n",
              " 570508                    0                 0\n",
              " 431909                    0                 0\n",
              " \n",
              " [697219 rows x 2 columns])"
            ]
          },
          "metadata": {},
          "execution_count": 36
        }
      ],
      "source": [
        "x_train, y_train"
      ]
    },
    {
      "cell_type": "markdown",
      "metadata": {
        "id": "RCmP33wUwpTi"
      },
      "source": [
        "**Fine Tuning Models and Validating it with Test Dataset**"
      ]
    },
    {
      "cell_type": "code",
      "execution_count": null,
      "metadata": {
        "colab": {
          "base_uri": "https://localhost:8080/"
        },
        "id": "vyFrT7egtcBR",
        "outputId": "73fd3d9b-2204-4066-f9de-a086f6c55dc6"
      },
      "outputs": [
        {
          "name": "stdout",
          "output_type": "stream",
          "text": [
            "Time Take :  85.6435750802358 minutes\n"
          ]
        }
      ],
      "source": [
        "from sklearn.ensemble import RandomForestClassifier\n",
        "param_grid = {\n",
        "    'n_estimators': [50, 100],\n",
        "    'max_depth': [None, 10, 20, 30],\n",
        "    'min_samples_split': [2, 5, 10]\n",
        "}\n",
        "start = time.time()\n",
        "# Create a base model\n",
        "rf = RandomForestClassifier()\n",
        "\n",
        "# Instantiate the randomized search model\n",
        "random_search_rf = RandomizedSearchCV(estimator=rf, param_distributions=param_grid, n_iter=100, cv=3, random_state=42,n_jobs=-1)\n",
        "\n",
        "# Fit the randomized search to the data\n",
        "random_search_rf.fit(x_train, y_train)\n",
        "print('Time Take :  %s minutes' % ((time.time() - start)/60))\n",
        "\n",
        "# Get the best parameters\n",
        "best_params_rf = random_search_rf.best_params_\n",
        "best_estimator_rf = random_search_rf.best_estimator_\n",
        "best_score_rf = random_search_rf.best_score_"
      ]
    },
    {
      "cell_type": "code",
      "execution_count": null,
      "metadata": {
        "colab": {
          "base_uri": "https://localhost:8080/"
        },
        "id": "iYMTYER-wZtO",
        "outputId": "3e2d6c56-d181-42df-c1fe-09678760e300"
      },
      "outputs": [
        {
          "name": "stdout",
          "output_type": "stream",
          "text": [
            "best_params_rf : {'n_estimators': 100, 'min_samples_split': 2, 'max_depth': None}\n",
            "best_estimator_rf : RandomForestClassifier()\n",
            "best_score_rf : 0.999859295108879\n"
          ]
        }
      ],
      "source": [
        "print('best_params_rf :',best_params_rf)\n",
        "print('best_estimator_rf :',best_estimator_rf)\n",
        "print('best_score_rf :',best_score_rf)"
      ]
    },
    {
      "cell_type": "markdown",
      "metadata": {
        "id": "j_8uxmhx07Zs"
      },
      "source": [
        "**Fine Tuning for DescisionTree**"
      ]
    },
    {
      "cell_type": "code",
      "execution_count": null,
      "metadata": {
        "colab": {
          "base_uri": "https://localhost:8080/"
        },
        "id": "wrUYjYjJ05jd",
        "outputId": "67f55c75-5eb9-47b3-ca0b-e7a92dabcaa5"
      },
      "outputs": [
        {
          "name": "stdout",
          "output_type": "stream",
          "text": [
            "Fitting 5 folds for each of 40 candidates, totalling 200 fits\n",
            "Time Take :  19.154699031511942 minutes\n"
          ]
        }
      ],
      "source": [
        "#Define the parameter grid\n",
        "param_grid = {\n",
        "    'criterion': ['gini', 'entropy'],\n",
        "    'max_depth': [None, 10, 20, 30],\n",
        "    'min_samples_split': [2, 5, 10,15,20]\n",
        "}\n",
        "start_time = time.time()\n",
        "# Create a base model\n",
        "dt = DecisionTreeClassifier()\n",
        "\n",
        "# Instantiate the randomized search model\n",
        "random_search = RandomizedSearchCV(estimator=dt, param_distributions=param_grid, n_iter=100, cv=5,verbose=2, random_state=42,n_jobs=-1)\n",
        "#First Try for cv = 3, but less computation\n",
        "#later Try for cv = 5, but more computation\n",
        "# Fit the randomized search to the data\n",
        "random_search.fit(x_train, y_train)\n",
        "\n",
        "# Get the best parameters\n",
        "best_params_1 = random_search.best_params_\n",
        "best_estimator_1 = random_search.best_estimator_\n",
        "best_score_1 = random_search.best_score_\n",
        "\n",
        "print('Time Take :  %s minutes' % ((time.time() - start_time)/60))\n"
      ]
    },
    {
      "cell_type": "code",
      "execution_count": null,
      "metadata": {
        "colab": {
          "base_uri": "https://localhost:8080/"
        },
        "id": "N9wLB16S2Ch6",
        "outputId": "43d9019e-3830-44eb-afa0-98e95acafa43"
      },
      "outputs": [
        {
          "name": "stdout",
          "output_type": "stream",
          "text": [
            "best_params_1 : {'min_samples_split': 10, 'max_depth': 30, 'criterion': 'entropy'}\n",
            "best_estimator_1 : DecisionTreeClassifier(criterion='entropy', max_depth=30, min_samples_split=10)\n",
            "best_score_1 : 0.9998412228974853\n"
          ]
        }
      ],
      "source": [
        "print('best_params_1 :',best_params_1)\n",
        "print('best_estimator_1 :',best_estimator_1)\n",
        "print('best_score_1 :',best_score_1)"
      ]
    },
    {
      "cell_type": "markdown",
      "metadata": {
        "id": "79XG2W5F2IaT"
      },
      "source": [
        "**Fine Tuning for KNN**"
      ]
    },
    {
      "cell_type": "code",
      "execution_count": null,
      "metadata": {
        "id": "kMKlH-162FqU"
      },
      "outputs": [],
      "source": [
        "# Define the parameter grid\n",
        "param_grid = {\n",
        "    'n_neighbors': list(range(1, 31)),\n",
        "    'weights': ['uniform', 'distance'],\n",
        "    'metric': ['euclidean', 'manhattan']\n",
        "}\n",
        "start_time = time.time()\n",
        "# Create a base model\n",
        "knn = KNeighborsClassifier()\n",
        "\n",
        "# Instantiate the randomized search model\n",
        "random_search = RandomizedSearchCV(estimator=knn, param_distributions=param_grid, n_iter=100, cv=3, random_state=42)\n",
        "\n",
        "# Fit the randomized search to the data\n",
        "random_search.fit(x_train, y_train)\n",
        "print('Time Take :  %s minutes' % ((time.time() - start_time)/60))\n",
        "# Get the best parameters\n",
        "best_params_2 = random_search.best_params_"
      ]
    },
    {
      "cell_type": "markdown",
      "metadata": {
        "id": "fLYphTbs28TB"
      },
      "source": [
        "**Testing the final model against Original Unused Test Dataset and Getting the score**"
      ]
    },
    {
      "cell_type": "code",
      "execution_count": null,
      "metadata": {
        "id": "jF6sSS4u2M7q"
      },
      "outputs": [],
      "source": [
        "x_train_final = training_df.drop(columns=label)\n",
        "y_train_final = training_df[label]"
      ]
    },
    {
      "cell_type": "code",
      "execution_count": null,
      "metadata": {
        "id": "hcX61bJ83CCv"
      },
      "outputs": [],
      "source": [
        "#for Reference:\n",
        "x_test_final = testing_df #Testing data without label used for predicting\n",
        "y_test_final = submission_df # Test Data Set labels"
      ]
    },
    {
      "cell_type": "code",
      "execution_count": null,
      "metadata": {
        "id": "FrfLA8B03yb1"
      },
      "outputs": [],
      "source": [
        "#final_model = DecisionTreeClassifier(criterion='entropy', min_samples_split=10)"
      ]
    },
    {
      "cell_type": "code",
      "source": [
        "final_model= RandomForestClassifier(n_estimators=100, min_samples_split= 2, max_depth= None)"
      ],
      "metadata": {
        "id": "F5ftknzZTnsC"
      },
      "execution_count": null,
      "outputs": []
    },
    {
      "cell_type": "code",
      "source": [],
      "metadata": {
        "id": "UtNu76BrTfm9"
      },
      "execution_count": null,
      "outputs": []
    },
    {
      "cell_type": "code",
      "execution_count": null,
      "metadata": {
        "id": "bJsDVY4-30Td"
      },
      "outputs": [],
      "source": [
        "start = time.time()\n",
        "final_model.fit(x_train_final, y_train_final)\n",
        "print('Time Take :  %s minutes' % ((time.time() - start)/60))"
      ]
    },
    {
      "cell_type": "code",
      "execution_count": null,
      "metadata": {
        "id": "AWfpxWyE32rS"
      },
      "outputs": [],
      "source": [
        "print(\"Predicting\")\n",
        "start = time.time()\n",
        "predictions_sub = final_model.predict(testing_df)\n",
        "print('Time Take :  %s minutes' % ((time.time() - start)/60))\n",
        "print(\"DataFrame\")\n",
        "dt_f_submissions = pd.DataFrame({\n",
        "    'primary_close_flag': predictions_sub[:, 0],\n",
        "    'final_close_flag': predictions_sub[:, 1]\n",
        "})"
      ]
    },
    {
      "cell_type": "markdown",
      "metadata": {
        "id": "uSNBRqQ639k_"
      },
      "source": [
        "**Creating Submit csv with Predicted Values.**"
      ]
    },
    {
      "cell_type": "code",
      "execution_count": null,
      "metadata": {
        "id": "iqOjRUKU35rg"
      },
      "outputs": [],
      "source": [
        "print(\"To_CSV\")\n",
        "dt_f_submissions.to_csv('/content/drive/MyDrive/Colab Notebooks/submitDT_fine.csv', index=False)\n",
        "print(\"completed\")"
      ]
    },
    {
      "cell_type": "code",
      "execution_count": null,
      "metadata": {
        "id": "SSmYnc6B4I1B"
      },
      "outputs": [],
      "source": [
        "#test_predict(classifier_name,'KNNClassifier')"
      ]
    },
    {
      "cell_type": "code",
      "execution_count": null,
      "metadata": {
        "id": "uILTCPEl4JPo"
      },
      "outputs": [],
      "source": [
        "print(\"Predicting\")\n",
        "predictions_sub = DT_model.predict(testing_df)\n",
        "print(\"DataFrame\")\n",
        "df_submissions = pd.DataFrame({\n",
        "    'primary_close_flag': predictions_sub[:, 0],\n",
        "    'final_close_flag': predictions_sub[:, 1]\n",
        "})\n"
      ]
    },
    {
      "cell_type": "code",
      "execution_count": null,
      "metadata": {
        "id": "71UdRQoQ6ALn"
      },
      "outputs": [],
      "source": [
        "print(\"To_CSV\")\n",
        "df_submissions.to_csv('/content/submitDT.csv', index=False)\n",
        "print(\"completed\")"
      ]
    }
  ],
  "metadata": {
    "colab": {
      "gpuType": "T4",
      "provenance": [],
      "toc_visible": true,
      "authorship_tag": "ABX9TyOKkcu01Op4NrF4dBtThExo",
      "include_colab_link": true
    },
    "kernelspec": {
      "display_name": "Python 3",
      "name": "python3"
    },
    "language_info": {
      "name": "python"
    }
  },
  "nbformat": 4,
  "nbformat_minor": 0
}